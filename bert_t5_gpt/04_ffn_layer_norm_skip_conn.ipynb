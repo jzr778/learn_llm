{
 "cells": [
  {
   "cell_type": "code",
   "execution_count": 106,
   "id": "7e0f42bb",
   "metadata": {},
   "outputs": [],
   "source": [
    "import torch\n",
    "from torch import nn\n",
    "import torch.nn.functional as F\n",
    "import transformers\n",
    "from transformers import AutoTokenizer, AutoConfig, AutoModel\n",
    "import numpy as np\n",
    "import pandas as pd\n",
    "import matplotlib.pyplot as plt\n",
    "import matplotlib as mpl\n",
    "from IPython.display import Image\n",
    "# default: 100\n",
    "mpl.rcParams['figure.dpi'] = 150"
   ]
  },
  {
   "cell_type": "code",
   "execution_count": 107,
   "id": "de06ba3d",
   "metadata": {},
   "outputs": [],
   "source": [
    "import os#环境代理设置\n",
    "os.environ[\"http_proxy\"] = \"http://127.0.0.1:7890\"\n",
    "os.environ[\"https_proxy\"] = \"http://127.0.0.1:7890\""
   ]
  },
  {
   "cell_type": "code",
   "execution_count": 108,
   "id": "5ded795f",
   "metadata": {},
   "outputs": [],
   "source": [
    "model_ckpt = 'bert-base-uncased'\n",
    "model = AutoModel.from_pretrained(model_ckpt)"
   ]
  },
  {
   "cell_type": "code",
   "execution_count": 109,
   "id": "94b3d51a",
   "metadata": {},
   "outputs": [],
   "source": [
    "tokenizer=AutoTokenizer.from_pretrained(model_ckpt)\n",
    "config = AutoConfig.from_pretrained(model_ckpt)"
   ]
  },
  {
   "cell_type": "code",
   "execution_count": 110,
   "id": "914f2428",
   "metadata": {},
   "outputs": [],
   "source": [
    "def scaled_dot_product_attention(q,k,v):\n",
    "    dim_k = k.size(-1)\n",
    "    atten_scores = torch.bmm(q,k.transpose(-1,-2))/np.sqrt(dim_k)\n",
    "    atten_weight = F.softmax(atten_scores, dim=-1)\n",
    "    return torch.bmm(atten_weight, v)"
   ]
  },
  {
   "cell_type": "code",
   "execution_count": 111,
   "id": "76e9d332",
   "metadata": {},
   "outputs": [],
   "source": [
    "class AttentionHead(nn.Module):\n",
    "    def __init__(self, embed_dim, head_dim, *args, **kwargs):\n",
    "        super().__init__(*args, **kwargs)\n",
    "        self.Wq = nn.Linear(embed_dim, head_dim)\n",
    "        self.Wk = nn.Linear(embed_dim, head_dim)\n",
    "        self.Wv = nn.Linear(embed_dim, head_dim)\n",
    "    def forward(self, x):\n",
    "        q = self.Wq(x)\n",
    "        k = self.Wk(x)\n",
    "        v = self.Wv(x)\n",
    "        attn_outputs = scaled_dot_product_attention(q,k,v)\n",
    "        return attn_outputs"
   ]
  },
  {
   "cell_type": "code",
   "execution_count": 112,
   "id": "110a57a7",
   "metadata": {},
   "outputs": [
    {
     "data": {
      "text/plain": [
       "BertConfig {\n",
       "  \"_name_or_path\": \"bert-base-uncased\",\n",
       "  \"architectures\": [\n",
       "    \"BertForMaskedLM\"\n",
       "  ],\n",
       "  \"attention_probs_dropout_prob\": 0.1,\n",
       "  \"classifier_dropout\": null,\n",
       "  \"gradient_checkpointing\": false,\n",
       "  \"hidden_act\": \"gelu\",\n",
       "  \"hidden_dropout_prob\": 0.1,\n",
       "  \"hidden_size\": 768,\n",
       "  \"initializer_range\": 0.02,\n",
       "  \"intermediate_size\": 3072,\n",
       "  \"layer_norm_eps\": 1e-12,\n",
       "  \"max_position_embeddings\": 512,\n",
       "  \"model_type\": \"bert\",\n",
       "  \"num_attention_heads\": 12,\n",
       "  \"num_hidden_layers\": 12,\n",
       "  \"pad_token_id\": 0,\n",
       "  \"position_embedding_type\": \"absolute\",\n",
       "  \"transformers_version\": \"4.46.3\",\n",
       "  \"type_vocab_size\": 2,\n",
       "  \"use_cache\": true,\n",
       "  \"vocab_size\": 30522\n",
       "}"
      ]
     },
     "execution_count": 112,
     "metadata": {},
     "output_type": "execute_result"
    }
   ],
   "source": [
    "config"
   ]
  },
  {
   "cell_type": "code",
   "execution_count": 113,
   "id": "9ca511cd",
   "metadata": {},
   "outputs": [],
   "source": [
    "class MutiHeadAttention(nn.Module):\n",
    "    def __init__(self, config, *args, **kwargs):\n",
    "        super().__init__(*args, **kwargs)\n",
    "        embed_dim = config.hidden_size\n",
    "        num_heads = config.num_attention_heads\n",
    "        head_dim = embed_dim // num_heads\n",
    "        self.heads = nn.ModuleList([\n",
    "            AttentionHead(embed_dim, head_dim) for _ in range(num_heads)\n",
    "        ])\n",
    "        self.output_layer = nn.Linear(embed_dim, embed_dim)\n",
    "    def forward(self, x):\n",
    "        x = torch.cat([head(x) for head in self.heads], dim=-1)\n",
    "        x = self.output_layer(x)\n",
    "        return x"
   ]
  },
  {
   "cell_type": "code",
   "execution_count": 114,
   "id": "9d01671d",
   "metadata": {},
   "outputs": [],
   "source": [
    "mha = MutiHeadAttention(config=config)"
   ]
  },
  {
   "cell_type": "code",
   "execution_count": 115,
   "id": "6b303b0b",
   "metadata": {},
   "outputs": [],
   "source": [
    "token_embedding = nn.Embedding(config.vocab_size, config.hidden_size)"
   ]
  },
  {
   "cell_type": "code",
   "execution_count": 116,
   "id": "aa7c4a1b",
   "metadata": {},
   "outputs": [
    {
     "data": {
      "text/plain": [
       "{'input_ids': tensor([[ 2051, 10029,  2066,  2019,  8612]]), 'token_type_ids': tensor([[0, 0, 0, 0, 0]]), 'attention_mask': tensor([[1, 1, 1, 1, 1]])}"
      ]
     },
     "execution_count": 116,
     "metadata": {},
     "output_type": "execute_result"
    }
   ],
   "source": [
    "text = \"time flies like an arrow\"\n",
    "model_inputs = tokenizer(text, return_tensors='pt', add_special_tokens=False)\n",
    "model_inputs"
   ]
  },
  {
   "cell_type": "code",
   "execution_count": 117,
   "id": "588c8adc",
   "metadata": {},
   "outputs": [
    {
     "data": {
      "text/plain": [
       "torch.Size([1, 5, 768])"
      ]
     },
     "execution_count": 117,
     "metadata": {},
     "output_type": "execute_result"
    }
   ],
   "source": [
    "input_embeddings = token_embedding(model_inputs['input_ids'])\n",
    "input_embeddings.shape"
   ]
  },
  {
   "cell_type": "code",
   "execution_count": 118,
   "id": "ef52a155",
   "metadata": {},
   "outputs": [],
   "source": [
    "attn_output = mha(input_embeddings)"
   ]
  },
  {
   "cell_type": "code",
   "execution_count": 119,
   "id": "52dde199",
   "metadata": {},
   "outputs": [
    {
     "data": {
      "text/plain": [
       "<matplotlib.legend.Legend at 0x7fc3ec7d2d90>"
      ]
     },
     "execution_count": 119,
     "metadata": {},
     "output_type": "execute_result"
    },
    {
     "data": {
      "image/png": "[encoded data removed]",
      "text/plain": [
       "<Figure size 960x720 with 1 Axes>"
      ]
     },
     "metadata": {},
     "output_type": "display_data"
    }
   ],
   "source": [
    "x = np.arange(-5, 5, 0.01)\n",
    "plt.plot(x, nn.ReLU()(torch.from_numpy(x)))\n",
    "plt.plot(x, nn.LeakyReLU(negative_slope=0.1)(torch.from_numpy(x)))\n",
    "plt.plot(x, nn.GELU()(torch.from_numpy(x)))\n",
    "plt.legend(['relu', 'lrelu', 'gelu'])"
   ]
  },
  {
   "cell_type": "code",
   "execution_count": 122,
   "id": "b07dd8c4",
   "metadata": {},
   "outputs": [],
   "source": [
    "class FeedFoward(nn.Module):\n",
    "    def __init__(self, config, *args, **kwargs):\n",
    "        super().__init__(*args, **kwargs)\n",
    "        self.fc1 = nn.Linear(config.hidden_size, config.intermediate_size)\n",
    "        self.fc2 = nn.Linear(config.intermediate_size, config.hidden_size)\n",
    "        self.gelu = nn.GELU()\n",
    "        self.dropout = nn.Dropout(config.hidden_dropout_prob)\n",
    "    def forward(self, x):\n",
    "        x = self.fc1(x)\n",
    "        x = self.gelu(x)\n",
    "        x = self.fc2(x)\n",
    "        x = self.dropout(x)\n",
    "        return x"
   ]
  },
  {
   "cell_type": "code",
   "execution_count": 123,
   "id": "21a0560a",
   "metadata": {},
   "outputs": [],
   "source": [
    "ffn = FeedFoward(config)"
   ]
  },
  {
   "cell_type": "code",
   "execution_count": 124,
   "id": "d0994931",
   "metadata": {},
   "outputs": [
    {
     "data": {
      "text/plain": [
       "torch.Size([1, 5, 768])"
      ]
     },
     "execution_count": 124,
     "metadata": {},
     "output_type": "execute_result"
    }
   ],
   "source": [
    "ffn(attn_output).size()"
   ]
  },
  {
   "cell_type": "code",
   "execution_count": null,
   "id": "860a7e96",
   "metadata": {},
   "outputs": [],
   "source": [
    "class TransformerEncoderLayer(nn.Module):\n",
    "    def __init__(self, config, *args, **kwargs):\n",
    "        super().__init__(*args, **kwargs)\n",
    "        # 768, embedding 级别进行 0均值 1 标准差的归一化处理\n",
    "        self.ln1 = nn.LayerNorm(config.hidden_size)\n",
    "        self.ln2 = nn.LayerNorm(config.hidden_size)\n",
    "        self.attn = MutiHeadAttention(config)\n",
    "        self.ffn = FeedFoward(config)\n",
    "    def forward(self, x):\n",
    "        # x from embedding, (b, s, h)\n",
    "        x = x + self.attn(self.ln1(x)) \n",
    "        # 为什么不是x+self.ln1(self.attn(x)) or self.ln1(x+self.attn(x))\n",
    "        # 是经过验证的 pre-norm 结构，x + self.ln1(self.attn(x)) 或 self.ln1(x + self.attn(x)) 属于 post-norm 变体，已被主流实现淘汰\n",
    "        x = x + self.ffn(self.ln2(x))\n",
    "        return x"
   ]
  },
  {
   "cell_type": "code",
   "execution_count": 126,
   "id": "62dc9e7b",
   "metadata": {},
   "outputs": [],
   "source": [
    "encoder_layer = TransformerEncoderLayer(config)"
   ]
  },
  {
   "cell_type": "code",
   "execution_count": 132,
   "id": "71298996",
   "metadata": {},
   "outputs": [],
   "source": [
    "encoder_output = encoder_layer(input_embeddings)"
   ]
  },
  {
   "cell_type": "code",
   "execution_count": 133,
   "id": "0b09fe7e",
   "metadata": {},
   "outputs": [
    {
     "data": {
      "text/plain": [
       "torch.Size([1, 5, 768])"
      ]
     },
     "execution_count": 133,
     "metadata": {},
     "output_type": "execute_result"
    }
   ],
   "source": [
    "encoder_output.shape"
   ]
  }
 ],
 "metadata": {
  "kernelspec": {
   "display_name": "PyTroch",
   "language": "python",
   "name": "python3"
  },
  "language_info": {
   "codemirror_mode": {
    "name": "ipython",
    "version": 3
   },
   "file_extension": ".py",
   "mimetype": "text/x-python",
   "name": "python",
   "nbconvert_exporter": "python",
   "pygments_lexer": "ipython3",
   "version": "3.8.20"
  }
 },
 "nbformat": 4,
 "nbformat_minor": 5
}
