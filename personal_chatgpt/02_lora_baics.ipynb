{
 "cells": [
  {
   "cell_type": "markdown",
   "id": "f7ed9065",
   "metadata": {},
   "source": [
    "- 全参微调的参数量为 $A*B$\n",
    "- LoRA的参数量为 $A*r+r*B$\n",
    "---\n",
    "\n",
    "伪代码如下："
   ]
  },
  {
   "cell_type": "code",
   "execution_count": 1,
   "id": "9e4bca63",
   "metadata": {},
   "outputs": [],
   "source": [
    "import torch.nn as nn\n",
    "import torch\n",
    "import math\n",
    "\n",
    "input_dim = 768  # e.g., the hidden size of the pre-trained model\n",
    "output_dim = 768  # e.g., the output size of the layer\n",
    "rank = 8  # The rank 'r' for the low-rank adaptation\n",
    "\n",
    "W = ... # from pretrained network with shape input_dim x output_dim\n",
    "alpha = ...\n",
    "\n",
    "W_A = nn.Parameter(torch.empty(input_dim, rank)) # LoRA weight A\n",
    "W_B = nn.Parameter(torch.empty(rank, output_dim)) # LoRA weight B\n",
    "\n",
    "# Initialization of LoRA weights\n",
    "nn.init.kaiming_uniform_(W_A, a=math.sqrt(5))\n",
    "nn.init.zeros_(W_B)\n",
    "\n",
    "def regular_forward_matmul(x, W):\n",
    "    h = x @ W\n",
    "    return h\n",
    "\n",
    "def lora_forward_matmul(x, W, W_A, W_B):\n",
    "    h = x @ W  # regular matrix multiplication\n",
    "    h += x @ (W_A @ W_B) * alpha # use scaled LoRA weights\n",
    "    return h"
   ]
  }
 ],
 "metadata": {
  "kernelspec": {
   "display_name": "PyTroch",
   "language": "python",
   "name": "python3"
  },
  "language_info": {
   "codemirror_mode": {
    "name": "ipython",
    "version": 3
   },
   "file_extension": ".py",
   "mimetype": "text/x-python",
   "name": "python",
   "nbconvert_exporter": "python",
   "pygments_lexer": "ipython3",
   "version": "3.8.20"
  }
 },
 "nbformat": 4,
 "nbformat_minor": 5
}
