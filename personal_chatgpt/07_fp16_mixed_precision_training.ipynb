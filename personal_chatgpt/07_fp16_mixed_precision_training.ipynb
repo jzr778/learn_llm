{
 "cells": [
  {
   "cell_type": "code",
   "execution_count": null,
   "id": "3f2950f0",
   "metadata": {},
   "outputs": [],
   "source": []
  }
 ],
 "metadata": {
  "kernelspec": {
   "display_name": "PyTroch",
   "language": "python",
   "name": "python3"
  },
  "language_info": {
   "name": "python",
   "version": "3.8.20"
  }
 },
 "nbformat": 4,
 "nbformat_minor": 5
}
