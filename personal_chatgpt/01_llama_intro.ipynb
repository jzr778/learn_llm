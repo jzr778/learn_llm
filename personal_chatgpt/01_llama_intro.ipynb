{
 "cells": [
  {
   "cell_type": "code",
   "execution_count": null,
   "id": "e39c95de",
   "metadata": {},
   "outputs": [
    {
     "name": "stderr",
     "output_type": "stream",
     "text": [
      "/home/jiangzirou/data/miniconda3/envs/PyTroch/lib/python3.8/site-packages/torchvision/io/image.py:13: UserWarning: Failed to load image Python extension: libtorch_cuda_cu.so: cannot open shared object file: No such file or directory\n",
      "  warn(f\"Failed to load image Python extension: {e}\")\n"
     ]
    },
    {
     "data": {
      "application/vnd.jupyter.widget-view+json": {
       "model_id": "ca5774e6ed5d4a00be10f938934019aa",
       "version_major": 2,
       "version_minor": 0
      },
      "text/plain": [
       "Loading checkpoint shards:   0%|          | 0/2 [00:00<?, ?it/s]"
      ]
     },
     "metadata": {},
     "output_type": "display_data"
    }
   ],
   "source": [
    "from transformers import AutoModelForCausalLM, AutoTokenizer\n",
    "import torch\n",
    "\n",
    "# 7b参数，半精度（每个参数占2字节），加载约13GB参数在GPU上\n",
    "model = AutoModelForCausalLM.from_pretrained(\n",
    "    \"NousResearch/Llama-2-7b-chat-hf\",\n",
    "    device_map=\"auto\",           # 自动分配所有GPU\n",
    "    torch_dtype=torch.float16,   # 半精度节省显存\n",
    "    low_cpu_mem_usage=True       # 减少CPU内存使用\n",
    ")\n",
    "\n",
    "tokenizer = AutoTokenizer.from_pretrained(\"NousResearch/Llama-2-7b-chat-hf\")"
   ]
  },
  {
   "cell_type": "code",
   "execution_count": 2,
   "id": "7ada54ce",
   "metadata": {},
   "outputs": [
    {
     "data": {
      "text/plain": [
       "LlamaForCausalLM(\n",
       "  (model): LlamaModel(\n",
       "    (embed_tokens): Embedding(32000, 4096, padding_idx=0)\n",
       "    (layers): ModuleList(\n",
       "      (0-31): 32 x LlamaDecoderLayer(\n",
       "        (self_attn): LlamaSdpaAttention(\n",
       "          (q_proj): Linear(in_features=4096, out_features=4096, bias=False)\n",
       "          (k_proj): Linear(in_features=4096, out_features=4096, bias=False)\n",
       "          (v_proj): Linear(in_features=4096, out_features=4096, bias=False)\n",
       "          (o_proj): Linear(in_features=4096, out_features=4096, bias=False)\n",
       "          (rotary_emb): LlamaRotaryEmbedding()\n",
       "        )\n",
       "        (mlp): LlamaMLP(\n",
       "          (gate_proj): Linear(in_features=4096, out_features=11008, bias=False)\n",
       "          (up_proj): Linear(in_features=4096, out_features=11008, bias=False)\n",
       "          (down_proj): Linear(in_features=11008, out_features=4096, bias=False)\n",
       "          (act_fn): SiLU()\n",
       "        )\n",
       "        (input_layernorm): LlamaRMSNorm((4096,), eps=1e-05)\n",
       "        (post_attention_layernorm): LlamaRMSNorm((4096,), eps=1e-05)\n",
       "      )\n",
       "    )\n",
       "    (norm): LlamaRMSNorm((4096,), eps=1e-05)\n",
       "    (rotary_emb): LlamaRotaryEmbedding()\n",
       "  )\n",
       "  (lm_head): Linear(in_features=4096, out_features=32000, bias=False)\n",
       ")"
      ]
     },
     "execution_count": 2,
     "metadata": {},
     "output_type": "execute_result"
    }
   ],
   "source": [
    "model"
   ]
  },
  {
   "cell_type": "markdown",
   "id": "c57769ef",
   "metadata": {},
   "source": [
    "| 组件                   | 是否加载到显存   | 说明                   |\n",
    "| -------------------- | --------- | -------------------- |\n",
    "| **模型权重（parameters）** | ✅         | 所有 `float16` 精度的权重张量 |\n",
    "| **模型缓存（KV Cache）**   | ❌（初始为空）   | 运行推理时才会动态分配          |\n",
    "| **Tokenizer**        | ❌         | 只在 CPU 上，轻量级         |\n",
    "| **前向计算中间激活值**        | ❌（运行时才产生） | 每次推理临时分配             |\n"
   ]
  },
  {
   "cell_type": "code",
   "execution_count": 3,
   "id": "a4aa4f70",
   "metadata": {},
   "outputs": [
    {
     "data": {
      "text/plain": [
       "LlamaTokenizerFast(name_or_path='NousResearch/Llama-2-7b-chat-hf', vocab_size=32000, model_max_length=1000000000000000019884624838656, is_fast=True, padding_side='left', truncation_side='right', special_tokens={'bos_token': '<s>', 'eos_token': '</s>', 'unk_token': '<unk>', 'pad_token': '<unk>'}, clean_up_tokenization_spaces=False),  added_tokens_decoder={\n",
       "\t0: AddedToken(\"<unk>\", rstrip=False, lstrip=False, single_word=False, normalized=True, special=True),\n",
       "\t1: AddedToken(\"<s>\", rstrip=False, lstrip=False, single_word=False, normalized=True, special=True),\n",
       "\t2: AddedToken(\"</s>\", rstrip=False, lstrip=False, single_word=False, normalized=True, special=True),\n",
       "\t32000: AddedToken(\"<pad>\", rstrip=False, lstrip=False, single_word=False, normalized=True, special=False),\n",
       "}"
      ]
     },
     "execution_count": 3,
     "metadata": {},
     "output_type": "execute_result"
    }
   ],
   "source": [
    "tokenizer"
   ]
  },
  {
   "cell_type": "code",
   "execution_count": 5,
   "id": "60f27da2",
   "metadata": {},
   "outputs": [
    {
     "name": "stdout",
     "output_type": "stream",
     "text": [
      "self_attn.q_proj.weight        torch.Size([4096, 4096])  dtype=torch.float16\n",
      "self_attn.k_proj.weight        torch.Size([4096, 4096])  dtype=torch.float16\n",
      "self_attn.v_proj.weight        torch.Size([4096, 4096])  dtype=torch.float16\n",
      "self_attn.o_proj.weight        torch.Size([4096, 4096])  dtype=torch.float16\n",
      "mlp.gate_proj.weight           torch.Size([11008, 4096])  dtype=torch.float16\n",
      "mlp.up_proj.weight             torch.Size([11008, 4096])  dtype=torch.float16\n",
      "mlp.down_proj.weight           torch.Size([4096, 11008])  dtype=torch.float16\n",
      "input_layernorm.weight         torch.Size([4096])  dtype=torch.float16\n",
      "post_attention_layernorm.weight torch.Size([4096])  dtype=torch.float16\n"
     ]
    }
   ],
   "source": [
    "# 看第 5 层（layers[4]）的完整参数名与形状\n",
    "for name, param in model.model.layers[4].named_parameters():\n",
    "    print(f\"{name:30s} {param.shape}  dtype={param.dtype}\")"
   ]
  },
  {
   "cell_type": "code",
   "execution_count": 6,
   "id": "88d339b4",
   "metadata": {},
   "outputs": [
    {
     "name": "stdout",
     "output_type": "stream",
     "text": [
      "tensor([-0.0167,  0.0033, -0.0019, -0.0051, -0.0019, -0.0066,  0.0121,  0.0112,\n",
      "         0.0027,  0.0228], dtype=torch.float16)\n"
     ]
    }
   ],
   "source": [
    "# 只看 q_proj 的前 10 个元素\n",
    "q_w = model.model.layers[4].self_attn.q_proj.weight.detach().cpu().flatten()[:10]\n",
    "print(q_w)"
   ]
  }
 ],
 "metadata": {
  "kernelspec": {
   "display_name": "PyTroch",
   "language": "python",
   "name": "python3"
  },
  "language_info": {
   "codemirror_mode": {
    "name": "ipython",
    "version": 3
   },
   "file_extension": ".py",
   "mimetype": "text/x-python",
   "name": "python",
   "nbconvert_exporter": "python",
   "pygments_lexer": "ipython3",
   "version": "3.8.20"
  }
 },
 "nbformat": 4,
 "nbformat_minor": 5
}
