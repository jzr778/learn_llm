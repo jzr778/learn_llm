{
 "cells": [
  {
   "cell_type": "markdown",
   "id": "9af45b90",
   "metadata": {},
   "source": [
    "### 二维旋转矩阵的复合\n",
    "\n",
    "旋转角为  $ \\theta $  的矩阵记为  \n",
    "\\begin{aligned}\n",
    "R(\\theta)\n",
    "&=\n",
    "\\begin{pmatrix}\n",
    "\\cos\\theta & -\\sin\\theta \\\\[4pt]\n",
    "\\sin\\theta & \\cos\\theta\n",
    "\\end{pmatrix}\n",
    "\\end{aligned}\n",
    "\n",
    "先转  $ \\beta $  再转  $ \\alpha $  等价于直接转  $ \\alpha+\\beta $：\n",
    "\n",
    "\n",
    "\\begin{aligned}\n",
    "R(\\alpha)\\,R(\\beta)\n",
    "&=\n",
    "\\begin{pmatrix}\n",
    "\\cos\\alpha & -\\sin\\alpha \\\\[4pt]\n",
    "\\sin\\alpha & \\cos\\alpha\n",
    "\\end{pmatrix}\n",
    "\\begin{pmatrix}\n",
    "\\cos\\beta & -\\sin\\beta \\\\[4pt]\n",
    "\\sin\\beta & \\cos\\beta\n",
    "\\end{pmatrix} \\\\[6pt]\n",
    "&=\n",
    "\\begin{pmatrix}\n",
    "\\cos\\alpha\\cos\\beta-\\sin\\alpha\\sin\\beta &\n",
    "-\\cos\\alpha\\sin\\beta-\\sin\\alpha\\cos\\beta \\\\[4pt]\n",
    "\\sin\\alpha\\cos\\beta+\\cos\\alpha\\sin\\beta &\n",
    "-\\sin\\alpha\\sin\\beta+\\cos\\alpha\\cos\\beta\n",
    "\\end{pmatrix} \\\\[6pt]\n",
    "&=\n",
    "\\begin{pmatrix}\n",
    "\\cos(\\alpha+\\beta) & -\\sin(\\alpha+\\beta) \\\\[4pt]\n",
    "\\sin(\\alpha+\\beta) & \\cos(\\alpha+\\beta)\n",
    "\\end{pmatrix} \\\\[6pt]\n",
    "&= R(\\alpha+\\beta).\n",
    "\\end{aligned}\n",
    "\n",
    "\n",
    "**结论**：连续两次二维旋转等于一次转角相加的旋转。"
   ]
  },
  {
   "cell_type": "markdown",
   "id": "2c3ae148",
   "metadata": {},
   "source": [
    "- $ ||R(\\theta)||=1 $，行列式为1\n",
    "- 乘以一个向量\n",
    "    - 不改变其长度\n",
    "    - 只改变其角度（只进行旋转）\n",
    "    - 为逆时针旋转\n",
    "        - 旋转角度$\\theta$为其与$x$轴正方向的夹角"
   ]
  },
  {
   "cell_type": "markdown",
   "id": "552da7ba",
   "metadata": {},
   "source": [
    "基本性质  \n",
    "  - 行列式  \n",
    "    $\n",
    "    \\det R(\\theta)=\\cos^2\\theta+\\sin^2\\theta=1\n",
    "    $  \n",
    "    因此 **R(θ) 是体积保持的线性变换**。  \n",
    "  - 对任意向量 **v**∈ℝ²，  \n",
    "    $\n",
    "    \\|R(\\theta)\\mathbf v\\|=\\|\\mathbf v\\|,\n",
    "    $  \n",
    "    即**不改变长度，只改变方向**。  \n",
    "  - 旋转方向：θ>0 时**逆时针**旋转；θ<0 时顺时针。\n",
    "\n",
    "\n",
    "一个具体例子：θ=90°<br/><br/>$R\\!\\bigl(\\tfrac\\pi2\\bigr)=\n",
    "\\begin{pmatrix}\n",
    "0 & -1 \\\\[2pt]\n",
    "1 & 0\n",
    "\\end{pmatrix}$把标准基向量 **e₁**=[1,0]ᵀ 映到 **e₂**=[0,1]ᵀ：$R\\!\\bigl(\\tfrac\\pi2\\bigr)\\mathbf e_1=\n",
    "\\begin{pmatrix}0\\\\1\\end{pmatrix}=\\mathbf e_2.$\n",
    "<br/><br/>这正是“逆时针转 90°”的几何事实。"
   ]
  },
  {
   "cell_type": "markdown",
   "id": "79ccae0d",
   "metadata": {},
   "source": [
    "对任意非零向量 **a**, **b**，它们的夹角 θ 满足$\n",
    "\\cos\\theta=\\frac{\\mathbf a\\cdot\\mathbf b}{\\|\\mathbf a\\|\\,\\|\\mathbf b\\|}\n",
    "$<br/>旋转矩阵 R(θ) 就是当 ‖a‖=‖b‖ 时把 **a** 转到 **b** 的“最短旋转”算子"
   ]
  },
  {
   "cell_type": "code",
   "execution_count": 2,
   "id": "0e86af17",
   "metadata": {},
   "outputs": [],
   "source": [
    "from IPython.display import Image\n",
    "import numpy as np\n",
    "import matplotlib.pyplot as plt"
   ]
  },
  {
   "cell_type": "code",
   "execution_count": 3,
   "id": "eb08b4cf",
   "metadata": {},
   "outputs": [],
   "source": [
    "def rot_matrix(theta):\n",
    "    return np.asarray([[np.cos(theta), -np.sin(theta)],\n",
    "                       [np.sin(theta), np.cos(theta)]])"
   ]
  },
  {
   "cell_type": "code",
   "execution_count": 4,
   "id": "3b3c8d80",
   "metadata": {},
   "outputs": [],
   "source": [
    "x = np.asarray([1,0])"
   ]
  },
  {
   "cell_type": "code",
   "execution_count": 5,
   "id": "4d3bf0a3",
   "metadata": {},
   "outputs": [],
   "source": [
    "# 逆时针30°旋转算子\n",
    "R1 = rot_matrix(np.pi/6)"
   ]
  },
  {
   "cell_type": "code",
   "execution_count": 6,
   "id": "13172fa1",
   "metadata": {},
   "outputs": [
    {
     "data": {
      "text/plain": [
       "array([[ 0.8660254, -0.5      ],\n",
       "       [ 0.5      ,  0.8660254]])"
      ]
     },
     "execution_count": 6,
     "metadata": {},
     "output_type": "execute_result"
    }
   ],
   "source": [
    "R1"
   ]
  },
  {
   "cell_type": "code",
   "execution_count": 7,
   "id": "d6650eab",
   "metadata": {},
   "outputs": [
    {
     "data": {
      "text/plain": [
       "array([0.8660254, 0.5      ])"
      ]
     },
     "execution_count": 7,
     "metadata": {},
     "output_type": "execute_result"
    }
   ],
   "source": [
    "x_prime = R1.dot(x)\n",
    "x_prime"
   ]
  },
  {
   "cell_type": "code",
   "execution_count": 8,
   "id": "793f8d6d",
   "metadata": {},
   "outputs": [
    {
     "data": {
      "text/plain": [
       "(-0.5, 1.5)"
      ]
     },
     "execution_count": 8,
     "metadata": {},
     "output_type": "execute_result"
    },
    {
     "data": {
      "image/png": "[encoded data removed]",
      "text/plain": [
       "<Figure size 640x480 with 1 Axes>"
      ]
     },
     "metadata": {},
     "output_type": "display_data"
    }
   ],
   "source": [
    "plt.quiver([0, 0], [0, 0], [x[0], x_prime[0]], [x[1], x_prime[1]], \n",
    "           angles=\"xy\", scale_units=\"xy\", scale=1, color=['g', 'r'])\n",
    "plt.axis('equal')\n",
    "plt.xlim(-.5, 1.5)\n",
    "plt.ylim(-.5, 1.5)"
   ]
  },
  {
   "cell_type": "code",
   "execution_count": 9,
   "id": "e94739a9",
   "metadata": {},
   "outputs": [
    {
     "data": {
      "text/plain": [
       "1.0"
      ]
     },
     "execution_count": 9,
     "metadata": {},
     "output_type": "execute_result"
    }
   ],
   "source": [
    "# 长度\n",
    "np.linalg.norm(x_prime)"
   ]
  },
  {
   "cell_type": "code",
   "execution_count": 10,
   "id": "2a4d6ef0",
   "metadata": {},
   "outputs": [
    {
     "data": {
      "text/plain": [
       "0.8660254037844387"
      ]
     },
     "execution_count": 10,
     "metadata": {},
     "output_type": "execute_result"
    }
   ],
   "source": [
    "# 角度\n",
    "x.dot(x_prime) / (np.linalg.norm(x)*np.linalg.norm(x_prime))"
   ]
  },
  {
   "cell_type": "code",
   "execution_count": 11,
   "id": "19467525",
   "metadata": {},
   "outputs": [
    {
     "data": {
      "text/plain": [
       "0.8660254037844387"
      ]
     },
     "execution_count": 11,
     "metadata": {},
     "output_type": "execute_result"
    }
   ],
   "source": [
    "np.cos(np.pi/6)"
   ]
  },
  {
   "cell_type": "markdown",
   "id": "d8aae9a9",
   "metadata": {},
   "source": [
    "旋转矩阵连乘"
   ]
  },
  {
   "cell_type": "code",
   "execution_count": 12,
   "id": "2e2ff87e",
   "metadata": {},
   "outputs": [],
   "source": [
    "R2 = rot_matrix(np.pi/6)"
   ]
  },
  {
   "cell_type": "code",
   "execution_count": 13,
   "id": "c2bcc79b",
   "metadata": {},
   "outputs": [
    {
     "data": {
      "text/plain": [
       "array([0.5      , 0.8660254])"
      ]
     },
     "execution_count": 13,
     "metadata": {},
     "output_type": "execute_result"
    }
   ],
   "source": [
    "x_prime2 = R2.dot(R1).dot(x)\n",
    "x_prime2"
   ]
  },
  {
   "cell_type": "code",
   "execution_count": 14,
   "id": "d768b06c",
   "metadata": {},
   "outputs": [
    {
     "data": {
      "text/plain": [
       "1.0"
      ]
     },
     "execution_count": 14,
     "metadata": {},
     "output_type": "execute_result"
    }
   ],
   "source": [
    "np.linalg.norm(x_prime2)"
   ]
  },
  {
   "cell_type": "code",
   "execution_count": 15,
   "id": "bc2b5813",
   "metadata": {},
   "outputs": [
    {
     "data": {
      "text/plain": [
       "0.5000000000000001"
      ]
     },
     "execution_count": 15,
     "metadata": {},
     "output_type": "execute_result"
    }
   ],
   "source": [
    "# 角度\n",
    "x_prime2.dot(x) / (np.linalg.norm(x_prime2) * np.linalg.norm(x))"
   ]
  },
  {
   "cell_type": "code",
   "execution_count": 16,
   "id": "4fa011e6",
   "metadata": {},
   "outputs": [
    {
     "data": {
      "text/plain": [
       "0.5000000000000001"
      ]
     },
     "execution_count": 16,
     "metadata": {},
     "output_type": "execute_result"
    }
   ],
   "source": [
    "np.cos(np.pi/3)"
   ]
  },
  {
   "cell_type": "code",
   "execution_count": 17,
   "id": "16b8a808",
   "metadata": {},
   "outputs": [
    {
     "data": {
      "text/plain": [
       "(-0.5, 1.5)"
      ]
     },
     "execution_count": 17,
     "metadata": {},
     "output_type": "execute_result"
    },
    {
     "data": {
      "image/png": "[encoded data removed]",
      "text/plain": [
       "<Figure size 640x480 with 1 Axes>"
      ]
     },
     "metadata": {},
     "output_type": "display_data"
    }
   ],
   "source": [
    "plt.quiver([0, 0, 0], [0, 0, 0], \n",
    "           [x[0], x_prime[0], x_prime2[0]], \n",
    "           [x[1], x_prime[1], x_prime2[1]], \n",
    "           angles=\"xy\", scale_units=\"xy\", scale=1, color=['g', 'r', 'b'])\n",
    "plt.axis('equal')\n",
    "plt.xlim(-0.5, 1.5)\n",
    "plt.ylim(-0.5, 1.5)"
   ]
  },
  {
   "cell_type": "markdown",
   "id": "0b39e962",
   "metadata": {},
   "source": [
    "复平面\n",
    "- $z=a+ib$\n",
    "    - $r=1,a=cos \\theta,b=sin \\theta $\n",
    "    - $z=cos \\theta + i*sin\\theta$\n",
    "\n",
    "\n",
    "\n",
    "**“旋转一个向量”** 与 **“乘一个模为 1 的复数”** 是同一件事，只是两种语言。\n",
    "\n",
    "---\n",
    "\n",
    "### 1 复数视角的旋转\n",
    "在复平面里把任意向量  $z=x+iy$  看成从原点出发的复数。\n",
    "乘以一个**单位复数**  $$e^{i\\theta}=\\cos\\theta+i\\sin\\theta$$ （模长为 1，幅角为 θ）就得到新复数  \n",
    "$$z' = e^{i\\theta}\\,z = (\\cos\\theta+i\\sin\\theta)(x+iy)$$\n",
    "\n",
    "按复数乘法展开  \n",
    "$$z' = (\\cos\\theta\\cdot x - \\sin\\theta\\cdot y) + i(\\sin\\theta\\cdot x + \\cos\\theta\\cdot y)$$\n",
    "\n",
    "### 2 矩阵视角的旋转\n",
    "同一操作写成矩阵乘法：  \n",
    "$$\n",
    "\\begin{align*}\n",
    "\\begin{pmatrix} x' \\\\ y' \\end{pmatrix}\n",
    "&= \\underbrace{\\begin{pmatrix}\n",
    "\\cos\\theta & -\\sin\\theta \\\\\n",
    "\\sin\\theta & \\cos\\theta\n",
    "\\end{pmatrix}}_{R(\\theta)}\n",
    "\\begin{pmatrix} x \\\\ y \\end{pmatrix} \\\\[6pt]\n",
    "&= \\begin{pmatrix}\n",
    "\\cos\\theta\\cdot x - \\sin\\theta\\cdot y \\\\\n",
    "\\sin\\theta\\cdot x + \\cos\\theta\\cdot y\n",
    "\\end{pmatrix}\n",
    "\\end{align*}\n",
    "$$\n",
    "\n",
    "### 3. 因此  \n",
    "> 乘以单位复数 $e^{i\\theta}$ ≡ 左乘旋转矩阵 $R(\\theta)$\n",
    "它们都是“**逆时针转 θ 角度而长度不变**”的同义表述。"
   ]
  },
  {
   "cell_type": "code",
   "execution_count": 18,
   "id": "8baa4718",
   "metadata": {},
   "outputs": [
    {
     "data": {
      "text/plain": [
       "array([1, 0])"
      ]
     },
     "execution_count": 18,
     "metadata": {},
     "output_type": "execute_result"
    }
   ],
   "source": [
    "x"
   ]
  },
  {
   "cell_type": "code",
   "execution_count": 23,
   "id": "a89ab51f",
   "metadata": {},
   "outputs": [
    {
     "name": "stdout",
     "output_type": "stream",
     "text": [
      "0.8660254037844387\n",
      "0.49999999999999994\n"
     ]
    }
   ],
   "source": [
    "# 构造单位复数\n",
    "rot = np.cos(np.pi/6) + 1j*np.sin(np.pi/6)\n",
    "# 乘单位矩阵\n",
    "z = rot * (x[0]+1j*x[1])\n",
    "# 取结果的实部\n",
    "print(np.real(z))\n",
    "# 取结果的虚部\n",
    "print(np.imag(z))"
   ]
  },
  {
   "cell_type": "code",
   "execution_count": 24,
   "id": "1acc3dea",
   "metadata": {},
   "outputs": [
    {
     "name": "stdout",
     "output_type": "stream",
     "text": [
      "0.5000000000000002\n",
      "0.8660254037844386\n"
     ]
    }
   ],
   "source": [
    "# 旋转30度，两次\n",
    "rot = rot*rot\n",
    "print(np.real(rot * (x[0]+1j*x[1])))\n",
    "print(np.imag(rot * (x[0]+1j*x[1])))"
   ]
  }
 ],
 "metadata": {
  "kernelspec": {
   "display_name": "PyTroch",
   "language": "python",
   "name": "python3"
  },
  "language_info": {
   "codemirror_mode": {
    "name": "ipython",
    "version": 3
   },
   "file_extension": ".py",
   "mimetype": "text/x-python",
   "name": "python",
   "nbconvert_exporter": "python",
   "pygments_lexer": "ipython3",
   "version": "3.8.20"
  }
 },
 "nbformat": 4,
 "nbformat_minor": 5
}
