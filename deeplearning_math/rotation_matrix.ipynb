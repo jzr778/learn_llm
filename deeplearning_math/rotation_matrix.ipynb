{
 "cells": [
  {
   "cell_type": "markdown",
   "id": "9af45b90",
   "metadata": {},
   "source": [
    "### 二维旋转矩阵的复合\n",
    "\n",
    "旋转角为  $ \\theta $  的矩阵记为  \n",
    "\\begin{aligned}\n",
    "R(\\theta)\n",
    "&=\n",
    "\\begin{pmatrix}\n",
    "\\cos\\theta & -\\sin\\theta \\\\[4pt]\n",
    "\\sin\\theta & \\cos\\theta\n",
    "\\end{pmatrix}\n",
    "\\end{aligned}\n",
    "\n",
    "先转  $ \\beta $  再转  $ \\alpha $  等价于直接转  $ \\alpha+\\beta $：\n",
    "\n",
    "\n",
    "\\begin{aligned}\n",
    "R(\\alpha)\\,R(\\beta)\n",
    "&=\n",
    "\\begin{pmatrix}\n",
    "\\cos\\alpha & -\\sin\\alpha \\\\[4pt]\n",
    "\\sin\\alpha & \\cos\\alpha\n",
    "\\end{pmatrix}\n",
    "\\begin{pmatrix}\n",
    "\\cos\\beta & -\\sin\\beta \\\\[4pt]\n",
    "\\sin\\beta & \\cos\\beta\n",
    "\\end{pmatrix} \\\\[6pt]\n",
    "&=\n",
    "\\begin{pmatrix}\n",
    "\\cos\\alpha\\cos\\beta-\\sin\\alpha\\sin\\beta &\n",
    "-\\cos\\alpha\\sin\\beta-\\sin\\alpha\\cos\\beta \\\\[4pt]\n",
    "\\sin\\alpha\\cos\\beta+\\cos\\alpha\\sin\\beta &\n",
    "-\\sin\\alpha\\sin\\beta+\\cos\\alpha\\cos\\beta\n",
    "\\end{pmatrix} \\\\[6pt]\n",
    "&=\n",
    "\\begin{pmatrix}\n",
    "\\cos(\\alpha+\\beta) & -\\sin(\\alpha+\\beta) \\\\[4pt]\n",
    "\\sin(\\alpha+\\beta) & \\cos(\\alpha+\\beta)\n",
    "\\end{pmatrix} \\\\[6pt]\n",
    "&= R(\\alpha+\\beta).\n",
    "\\end{aligned}\n",
    "\n",
    "\n",
    "**结论**：连续两次二维旋转等于一次转角相加的旋转。"
   ]
  },
  {
   "cell_type": "markdown",
   "id": "2c3ae148",
   "metadata": {},
   "source": [
    "- $ ||R(\\theta)||=1 $，行列式为1\n",
    "- 乘以一个向量\n",
    "    - 不改变其长度\n",
    "    - 只改变其角度（只进行旋转）\n",
    "    - 为逆时针旋转\n",
    "        - 旋转角度$\\theta$为其与$x$轴正方向的夹角"
   ]
  },
  {
   "cell_type": "markdown",
   "id": "552da7ba",
   "metadata": {},
   "source": [
    "基本性质  \n",
    "  - 行列式  \n",
    "    $\n",
    "    \\det R(\\theta)=\\cos^2\\theta+\\sin^2\\theta=1\n",
    "    $  \n",
    "    因此 **R(θ) 是体积保持的线性变换**。  \n",
    "  - 对任意向量 **v**∈ℝ²，  \n",
    "    $\n",
    "    \\|R(\\theta)\\mathbf v\\|=\\|\\mathbf v\\|,\n",
    "    $  \n",
    "    即**不改变长度，只改变方向**。  \n",
    "  - 旋转方向：θ>0 时**逆时针**旋转；θ<0 时顺时针。\n",
    "\n",
    "\n",
    "一个具体例子：θ=90°<br/><br/>$R\\!\\bigl(\\tfrac\\pi2\\bigr)=\n",
    "\\begin{pmatrix}\n",
    "0 & -1 \\\\[2pt]\n",
    "1 & 0\n",
    "\\end{pmatrix}$把标准基向量 **e₁**=[1,0]ᵀ 映到 **e₂**=[0,1]ᵀ：$R\\!\\bigl(\\tfrac\\pi2\\bigr)\\mathbf e_1=\n",
    "\\begin{pmatrix}0\\\\1\\end{pmatrix}=\\mathbf e_2.$\n",
    "<br/><br/>这正是“逆时针转 90°”的几何事实。"
   ]
  },
  {
   "cell_type": "markdown",
   "id": "79ccae0d",
   "metadata": {},
   "source": [
    "对任意非零向量 **a**, **b**，它们的夹角 θ 满足$\n",
    "\\cos\\theta=\\frac{\\mathbf a\\cdot\\mathbf b}{\\|\\mathbf a\\|\\,\\|\\mathbf b\\|}.\n",
    "$<br/>旋转矩阵 R(θ) 就是当 ‖a‖=‖b‖ 时把 **a** 转到 **b** 的“最短旋转”算子"
   ]
  },
  {
   "cell_type": "code",
   "execution_count": 1,
   "id": "0e86af17",
   "metadata": {},
   "outputs": [],
   "source": [
    "from IPython.display import Image\n",
    "import numpy as np\n",
    "import matplotlib.pyplot as plt"
   ]
  },
  {
   "cell_type": "code",
   "execution_count": 2,
   "id": "eb08b4cf",
   "metadata": {},
   "outputs": [],
   "source": [
    "def rot_matrix(theta):\n",
    "    return np.asarray([[np.cos(theta), -np.sin(theta)],\n",
    "                       [np.sin(theta), np.cos(theta)]])"
   ]
  },
  {
   "cell_type": "code",
   "execution_count": 3,
   "id": "3b3c8d80",
   "metadata": {},
   "outputs": [],
   "source": [
    "x = np.asarray([1,0])"
   ]
  },
  {
   "cell_type": "code",
   "execution_count": 4,
   "id": "4d3bf0a3",
   "metadata": {},
   "outputs": [],
   "source": [
    "# 逆时针30°旋转算子\n",
    "R1 = rot_matrix(np.pi/6)"
   ]
  },
  {
   "cell_type": "code",
   "execution_count": 6,
   "id": "13172fa1",
   "metadata": {},
   "outputs": [
    {
     "data": {
      "text/plain": [
       "array([[ 0.8660254, -0.5      ],\n",
       "       [ 0.5      ,  0.8660254]])"
      ]
     },
     "execution_count": 6,
     "metadata": {},
     "output_type": "execute_result"
    }
   ],
   "source": [
    "R1"
   ]
  },
  {
   "cell_type": "code",
   "execution_count": 8,
   "id": "d6650eab",
   "metadata": {},
   "outputs": [
    {
     "data": {
      "text/plain": [
       "array([0.8660254, 0.5      ])"
      ]
     },
     "execution_count": 8,
     "metadata": {},
     "output_type": "execute_result"
    }
   ],
   "source": [
    "x_prime = R1.dot(x)\n",
    "x_prime"
   ]
  },
  {
   "cell_type": "code",
   "execution_count": 9,
   "id": "793f8d6d",
   "metadata": {},
   "outputs": [
    {
     "data": {
      "text/plain": [
       "(-0.5, 1.5)"
      ]
     },
     "execution_count": 9,
     "metadata": {},
     "output_type": "execute_result"
    },
    {
     "data": {
      "image/png": "[encoded data removed]",
      "text/plain": [
       "<Figure size 640x480 with 1 Axes>"
      ]
     },
     "metadata": {},
     "output_type": "display_data"
    }
   ],
   "source": [
    "plt.quiver([0, 0], [0, 0], [x[0], x_prime[0]], [x[1], x_prime[1]], \n",
    "           angles=\"xy\", scale_units=\"xy\", scale=1, color=['g', 'r'])\n",
    "plt.axis('equal')\n",
    "plt.xlim(-.5, 1.5)\n",
    "plt.ylim(-.5, 1.5)"
   ]
  },
  {
   "cell_type": "code",
   "execution_count": null,
   "id": "e94739a9",
   "metadata": {},
   "outputs": [],
   "source": []
  }
 ],
 "metadata": {
  "kernelspec": {
   "display_name": "PyTroch",
   "language": "python",
   "name": "python3"
  },
  "language_info": {
   "codemirror_mode": {
    "name": "ipython",
    "version": 3
   },
   "file_extension": ".py",
   "mimetype": "text/x-python",
   "name": "python",
   "nbconvert_exporter": "python",
   "pygments_lexer": "ipython3",
   "version": "3.8.20"
  }
 },
 "nbformat": 4,
 "nbformat_minor": 5
}
