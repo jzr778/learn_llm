{
 "cells": [
  {
   "cell_type": "code",
   "execution_count": 1,
   "id": "cc37c6ff",
   "metadata": {},
   "outputs": [],
   "source": [
    "import os\n",
    "import torch\n",
    "import torch.nn.functional as F\n",
    "from torch.utils.data import Dataset, DataLoader"
   ]
  },
  {
   "cell_type": "code",
   "execution_count": 2,
   "id": "19c70bd8",
   "metadata": {},
   "outputs": [],
   "source": [
    "import torch.multiprocessing as mp\n",
    "from torch.utils.data.distributed import DistributedSampler\n",
    "from torch.nn.parallel import DistributedDataParallel as DDP\n",
    "from torch.distributed import init_process_group, destroy_process_group"
   ]
  },
  {
   "cell_type": "markdown",
   "id": "57051711",
   "metadata": {},
   "source": [
    "### basics\n",
    "- All to one：reduce； one to All：broadcast\n",
    "- rank：[0, world_size-1]"
   ]
  },
  {
   "cell_type": "markdown",
   "id": "5fb0cf8e",
   "metadata": {},
   "source": [
    "### ddp setup\n",
    "- MASTER_ADDR: 主节点的IP地址，这里是localhost表示单机多卡\n",
    "- MASTER_PORT: 主节点监听的端口，需要是一个空闲端口\n",
    "- 所有进程通过这些信息找到彼此并进行通信\n",
    "- backend=\"nccl\": 使用NVIDIA的NCCL库，这是GPU间最高效的通信后端\n",
    "- rank=rank: 传入当前进程的唯一标识\n",
    "- world_size=world_size: 传入总进程数"
   ]
  },
  {
   "cell_type": "code",
   "execution_count": 3,
   "id": "b1f2e8bf",
   "metadata": {},
   "outputs": [
    {
     "data": {
      "text/plain": [
       "9"
      ]
     },
     "execution_count": 3,
     "metadata": {},
     "output_type": "execute_result"
    }
   ],
   "source": [
    "world_size = torch.cuda.device_count()\n",
    "world_size"
   ]
  },
  {
   "cell_type": "code",
   "execution_count": null,
   "id": "07ec130d",
   "metadata": {},
   "outputs": [],
   "source": [
    "def ddp_setup(rank, world_size):\n",
    "    os.environ[\"MASTER_ADDR\"] = \"localhost\"\n",
    "    os.environ[\"MASTER_PORT\"] = \"12355\"\n",
    "    init_process_group(backend=\"nccl\", rank=rank, world_size=world_size)\n",
    "    torch.cuda.set_device(rank) # 将当前进程绑定到对应的GPU上，确保每个进程使用不同的GPU"
   ]
  },
  {
   "cell_type": "markdown",
   "id": "05bb6cc0",
   "metadata": {},
   "source": [
    "### custom Trainer（自定义 trainer）"
   ]
  },
  {
   "cell_type": "code",
   "execution_count": null,
   "id": "fa022503",
   "metadata": {},
   "outputs": [],
   "source": [
    "class Trainer:\n",
    "    def __init__(self, \n",
    "                 model: torch.nn.Module, \n",
    "                 train_dataloader: DataLoader, \n",
    "                 optimizer: torch.optim.Optimizer, \n",
    "                 gpu_id: int) -> None:\n",
    "        # rank\n",
    "        self.gpu_id = gpu_id\n",
    "        self.model = model.to(gpu_id)\n",
    "        self.train_dataloader = train_dataloader\n",
    "        self.optimizer = optimizer\n",
    "        # 将模型包装成分布式数据并行模型，自动处理梯度同步。\n",
    "        self.model = DDP(model, device_ids=[gpu_id])\n",
    "    \n",
    "    def _run_batch(self, xs, ys):\n",
    "        self.optimizer.zero_grad()        # 清空梯度\n",
    "        output = self.model(xs)           # 前向传播\n",
    "        loss = F.cross_entropy(output, ys) # 计算损失\n",
    "        loss.backward()                   # 反向传播\n",
    "        self.optimizer.step()             # 更新参数\n",
    "    \n",
    "    def _run_epoch(self, epoch):\n",
    "        batch_size = len(next(iter(self.train_dataloader))[0])\n",
    "        print(f'[GPU: {self.gpu_id}] Epoch: {epoch} | Batchsize: {batch_size} | Steps: {len(self.train_dataloader)}')\n",
    "        # 每个epoch重新对数据洗牌\n",
    "        # 确保数据分布不同，避免所有GPU看到相同的数据顺序\n",
    "        self.train_dataloader.sampler.set_epoch(epoch) \n",
    "        for xs, ys in self.train_dataloader:\n",
    "            xs = xs.to(self.gpu_id)\n",
    "            ys = ys.to(self.gpu_id)\n",
    "            self._run_batch(xs, ys)\n",
    "        \n",
    "    def train(self, max_epoch: int):\n",
    "        for epoch in range(max_epoch):\n",
    "            self._run_epoch(epoch)"
   ]
  },
  {
   "cell_type": "markdown",
   "id": "8407e92b",
   "metadata": {},
   "source": [
    "### pipeline"
   ]
  },
  {
   "cell_type": "code",
   "execution_count": 6,
   "id": "b094a0c7",
   "metadata": {},
   "outputs": [],
   "source": [
    "class MyTrainDataset(Dataset):\n",
    "    def __init__(self, size):\n",
    "        self.size = size\n",
    "        self.data = [(torch.rand(20), torch.randn(1)) for _ in range(size)]\n",
    "\n",
    "    def __len__(self):\n",
    "        return self.size\n",
    "    \n",
    "    def __getitem__(self, index):\n",
    "        return self.data[index]"
   ]
  },
  {
   "cell_type": "code",
   "execution_count": 7,
   "id": "eeba8db6",
   "metadata": {},
   "outputs": [],
   "source": [
    "train_dataset = MyTrainDataset(2048)"
   ]
  },
  {
   "cell_type": "code",
   "execution_count": 12,
   "id": "94b3f859",
   "metadata": {},
   "outputs": [
    {
     "data": {
      "text/plain": [
       "(tensor([0.1571, 0.6422, 0.2426, 0.7534, 0.4267, 0.6078, 0.6869, 0.1893, 0.2173,\n",
       "         0.2950, 0.5808, 0.7997, 0.5400, 0.4954, 0.8197, 0.6861, 0.7217, 0.2654,\n",
       "         0.7464, 0.7950]),\n",
       " tensor([-0.5326]))"
      ]
     },
     "execution_count": 12,
     "metadata": {},
     "output_type": "execute_result"
    }
   ],
   "source": [
    "train_dataset[0]"
   ]
  },
  {
   "cell_type": "markdown",
   "id": "f7e559d3",
   "metadata": {},
   "source": [
    "### 分布式训练主函数：\n",
    "假设在4GPU上运行：\n",
    "- 4个进程同时执行这个函数\n",
    "- 每个进程的 rank 不同 (0, 1, 2, 3)\n",
    "- 每个进程的 gpu_id 对应各自的GPU\n",
    "- DistributedSampler 自动将数据分成4份，每个GPU处理不同部分\n",
    "    - DistributedSampler 的作用：\n",
    "        - ✅ 数据分区 - 将数据均匀分配到所有GPU\n",
    "        - ✅ 避免重复 - 确保数据不重叠，全部覆盖\n",
    "        - ✅ 支持洗牌 - 通过 set_epoch() 控制数据顺序\n",
    "        - ✅ 梯度独立性 - 每个GPU计算不同数据的梯度"
   ]
  },
  {
   "cell_type": "code",
   "execution_count": 14,
   "id": "09cc660d",
   "metadata": {},
   "outputs": [],
   "source": [
    "def main(rank: int, world_size: int, max_epochs: int, batch_size: int):\n",
    "    # 初始化分布式环境\n",
    "    ddp_setup(rank, world_size)\n",
    "\n",
    "    # 准备数据\n",
    "    train_dataset = MyTrainDataset(2048)\n",
    "    train_dataloader = DataLoader(train_dataset, \n",
    "                              batch_size=batch_size, \n",
    "                              pin_memory=True, \n",
    "                              shuffle=False, \n",
    "                              sampler=DistributedSampler(train_dataset))\n",
    "\n",
    "    # 创建模型\n",
    "    model = torch.nn.Linear(20, 1)\n",
    "    optimizer = torch.optim.sgd(model.parameters(), lr=1e-3)\n",
    "\n",
    "    # 创建训练器并开始训练\n",
    "    trainer = Trainer(model=model, gpu_id=rank, optimizer=optimizer, train_dataloader=train_dataloader)\n",
    "    trainer.train(max_epochs)\n",
    "    \n",
    "    # 释放分布式资源\n",
    "    destroy_process_group()"
   ]
  },
  {
   "cell_type": "markdown",
   "id": "e14a2ac9",
   "metadata": {},
   "source": [
    "### 分布式 training"
   ]
  },
  {
   "cell_type": "code",
   "execution_count": 15,
   "id": "3353eda7",
   "metadata": {},
   "outputs": [
    {
     "data": {
      "text/plain": [
       "9"
      ]
     },
     "execution_count": 15,
     "metadata": {},
     "output_type": "execute_result"
    }
   ],
   "source": [
    "world_size = torch.cuda.device_count()\n",
    "world_size"
   ]
  },
  {
   "cell_type": "markdown",
   "id": "af05a4d4",
   "metadata": {},
   "source": [
    "2048条数据，per gpu 32条数据，9 gpu\n",
    "\n",
    "每个gpu 2048/32/9=7.111≈8 Steps"
   ]
  },
  {
   "cell_type": "code",
   "execution_count": 16,
   "id": "98bb8af9",
   "metadata": {},
   "outputs": [
    {
     "name": "stdout",
     "output_type": "stream",
     "text": [
      "[GPU: 2] Epoch: 0 | Batchsize: 32 | Steps: 8\n",
      "[GPU: 6] Epoch: 0 | Batchsize: 32 | Steps: 8\n",
      "[GPU: 8] Epoch: 0 | Batchsize: 32 | Steps: 8\n",
      "[GPU: 3] Epoch: 0 | Batchsize: 32 | Steps: 8\n",
      "[GPU: 0] Epoch: 0 | Batchsize: 32 | Steps: 8\n",
      "[GPU: 7] Epoch: 0 | Batchsize: 32 | Steps: 8\n",
      "[GPU: 1] Epoch: 0 | Batchsize: 32 | Steps: 8[GPU: 4] Epoch: 0 | Batchsize: 32 | Steps: 8\n",
      "\n",
      "[GPU: 5] Epoch: 0 | Batchsize: 32 | Steps: 8\n",
      "[GPU: 1] Epoch: 1 | Batchsize: 32 | Steps: 8\n",
      "[GPU: 2] Epoch: 1 | Batchsize: 32 | Steps: 8\n",
      "[GPU: 3] Epoch: 1 | Batchsize: 32 | Steps: 8[GPU: 4] Epoch: 1 | Batchsize: 32 | Steps: 8\n",
      "\n",
      "[GPU: 0] Epoch: 1 | Batchsize: 32 | Steps: 8\n",
      "[GPU: 7] Epoch: 1 | Batchsize: 32 | Steps: 8\n",
      "[GPU: 8] Epoch: 1 | Batchsize: 32 | Steps: 8[GPU: 6] Epoch: 1 | Batchsize: 32 | Steps: 8\n",
      "\n",
      "[GPU: 5] Epoch: 1 | Batchsize: 32 | Steps: 8\n",
      "[GPU: 5] Epoch: 2 | Batchsize: 32 | Steps: 8\n",
      "[GPU: 3] Epoch: 2 | Batchsize: 32 | Steps: 8\n",
      "[GPU: 2] Epoch: 2 | Batchsize: 32 | Steps: 8\n",
      "[GPU: 1] Epoch: 2 | Batchsize: 32 | Steps: 8\n",
      "[GPU: 4] Epoch: 2 | Batchsize: 32 | Steps: 8\n",
      "[GPU: 8] Epoch: 2 | Batchsize: 32 | Steps: 8\n",
      "[GPU: 7] Epoch: 2 | Batchsize: 32 | Steps: 8\n",
      "[GPU: 0] Epoch: 2 | Batchsize: 32 | Steps: 8\n",
      "[GPU: 6] Epoch: 2 | Batchsize: 32 | Steps: 8\n",
      "[GPU: 4] Epoch: 3 | Batchsize: 32 | Steps: 8\n",
      "[GPU: 5] Epoch: 3 | Batchsize: 32 | Steps: 8\n",
      "[GPU: 2] Epoch: 3 | Batchsize: 32 | Steps: 8\n",
      "[GPU: 8] Epoch: 3 | Batchsize: 32 | Steps: 8\n",
      "[GPU: 3] Epoch: 3 | Batchsize: 32 | Steps: 8\n",
      "[GPU: 1] Epoch: 3 | Batchsize: 32 | Steps: 8\n",
      "[GPU: 7] Epoch: 3 | Batchsize: 32 | Steps: 8\n",
      "[GPU: 0] Epoch: 3 | Batchsize: 32 | Steps: 8\n",
      "[GPU: 6] Epoch: 3 | Batchsize: 32 | Steps: 8\n",
      "[GPU: 3] Epoch: 4 | Batchsize: 32 | Steps: 8\n",
      "[GPU: 5] Epoch: 4 | Batchsize: 32 | Steps: 8\n",
      "[GPU: 7] Epoch: 4 | Batchsize: 32 | Steps: 8[GPU: 4] Epoch: 4 | Batchsize: 32 | Steps: 8\n",
      "\n",
      "[GPU: 2] Epoch: 4 | Batchsize: 32 | Steps: 8\n",
      "[GPU: 1] Epoch: 4 | Batchsize: 32 | Steps: 8\n",
      "[GPU: 8] Epoch: 4 | Batchsize: 32 | Steps: 8\n",
      "[GPU: 0] Epoch: 4 | Batchsize: 32 | Steps: 8\n",
      "[GPU: 6] Epoch: 4 | Batchsize: 32 | Steps: 8\n"
     ]
    }
   ],
   "source": [
    "!python ddp_gpus.py --max_epochs 5 --batch_size 32 "
   ]
  },
  {
   "cell_type": "markdown",
   "id": "9f4c7a8f",
   "metadata": {},
   "source": [
    "- python ddp_gpus.py: 手动进程管理，需要代码内指定GPU数量\n",
    "    > world_size = torch.cuda.device_count()</br>\n",
    "    > mp.spawn(main, args=(world_size, args.max_epochs, args.batch_size), nprocs=world_size)\n",
    "\n",
    "- torchrun ddp_gpus_torchrun.py: 自动进程管理，通过命令行参数指定GPU数量，是PyTorch官方推荐的方式"
   ]
  },
  {
   "cell_type": "markdown",
   "id": "a6b44fd2",
   "metadata": {},
   "source": [
    "### torchrun 运行"
   ]
  },
  {
   "cell_type": "code",
   "execution_count": 17,
   "id": "278352c5",
   "metadata": {},
   "outputs": [
    {
     "name": "stdout",
     "output_type": "stream",
     "text": [
      "[GPU: 0] Epoch: 0 | Batchsize: 32 | Steps: 64\n",
      "[GPU: 0] Epoch: 1 | Batchsize: 32 | Steps: 64\n",
      "[GPU: 0] Epoch: 2 | Batchsize: 32 | Steps: 64\n",
      "[GPU: 0] Epoch: 3 | Batchsize: 32 | Steps: 64\n",
      "[GPU: 0] Epoch: 4 | Batchsize: 32 | Steps: 64\n"
     ]
    }
   ],
   "source": [
    "!torchrun ddp_gpus_torchrun.py --max_epochs 5 --batch_size 32"
   ]
  },
  {
   "cell_type": "code",
   "execution_count": 18,
   "id": "9c48a815",
   "metadata": {},
   "outputs": [
    {
     "name": "stdout",
     "output_type": "stream",
     "text": [
      "W1004 06:38:47.707927 139864687366528 torch/distributed/run.py:779] \n",
      "W1004 06:38:47.707927 139864687366528 torch/distributed/run.py:779] *****************************************\n",
      "W1004 06:38:47.707927 139864687366528 torch/distributed/run.py:779] Setting OMP_NUM_THREADS environment variable for each process to be 1 in default, to avoid your system being overloaded, please further tune the variable for optimal performance in your application as needed. \n",
      "W1004 06:38:47.707927 139864687366528 torch/distributed/run.py:779] *****************************************\n",
      "[GPU: 1] Epoch: 0 | Batchsize: 32 | Steps: 32\n",
      "[GPU: 0] Epoch: 0 | Batchsize: 32 | Steps: 32\n",
      "[GPU: 0] Epoch: 1 | Batchsize: 32 | Steps: 32\n",
      "[GPU: 1] Epoch: 1 | Batchsize: 32 | Steps: 32\n",
      "[GPU: 0] Epoch: 2 | Batchsize: 32 | Steps: 32\n",
      "[GPU: 1] Epoch: 2 | Batchsize: 32 | Steps: 32\n",
      "[GPU: 0] Epoch: 3 | Batchsize: 32 | Steps: 32\n",
      "[GPU: 1] Epoch: 3 | Batchsize: 32 | Steps: 32\n",
      "[GPU: 0] Epoch: 4 | Batchsize: 32 | Steps: 32\n",
      "[GPU: 1] Epoch: 4 | Batchsize: 32 | Steps: 32\n"
     ]
    }
   ],
   "source": [
    "!torchrun --nproc-per-node=2 ddp_gpus_torchrun.py --max_epochs 5 --batch_size 32"
   ]
  }
 ],
 "metadata": {
  "kernelspec": {
   "display_name": "PyTroch",
   "language": "python",
   "name": "python3"
  },
  "language_info": {
   "codemirror_mode": {
    "name": "ipython",
    "version": 3
   },
   "file_extension": ".py",
   "mimetype": "text/x-python",
   "name": "python",
   "nbconvert_exporter": "python",
   "pygments_lexer": "ipython3",
   "version": "3.8.20"
  }
 },
 "nbformat": 4,
 "nbformat_minor": 5
}
