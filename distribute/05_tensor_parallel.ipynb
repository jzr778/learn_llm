{
 "cells": [
  {
   "cell_type": "markdown",
   "id": "18c7b76e",
   "metadata": {},
   "source": [
    "- 张量并行\n",
    "    - 更细粒度的模型并行，细到权重矩阵（tensor）粒度\n",
    "    - 数学上：矩阵分块"
   ]
  },
  {
   "cell_type": "code",
   "execution_count": 210,
   "id": "dbaa199e",
   "metadata": {},
   "outputs": [],
   "source": [
    "import math\n",
    "import numpy\n",
    "import torch\n",
    "import torch.nn as nn\n",
    "import torch.nn.functional as F\n",
    "import numpy as np"
   ]
  },
  {
   "cell_type": "code",
   "execution_count": 211,
   "id": "4c93c9b3",
   "metadata": {},
   "outputs": [],
   "source": [
    "X = np.random.randn(100,200)\n",
    "A = np.random.randn(200, 300)\n",
    "# XA = 100*300\n",
    "B = np.random.randn(300, 400)"
   ]
  },
  {
   "cell_type": "code",
   "execution_count": 212,
   "id": "951c6dfb",
   "metadata": {},
   "outputs": [],
   "source": [
    "def split_columnwise(A, num_splits):\n",
    "    return np.split(A, num_splits, axis=1)\n",
    " \n",
    "def split_rowwise(A, num_splits):\n",
    "    return np.split(A, num_splits, axis=0)"
   ]
  },
  {
   "cell_type": "code",
   "execution_count": 213,
   "id": "a1c6df4a",
   "metadata": {},
   "outputs": [],
   "source": [
    "def normal_forward_pass(X, A, B, f):\n",
    "    Y = f(np.dot(X, A)) #(100,200)*(200,300)=(100,300)\n",
    "    Z = np.dot(Y, B) #(100,300)*(300,400)=(100,400)\n",
    "    return Z"
   ]
  },
  {
   "cell_type": "code",
   "execution_count": 214,
   "id": "dc081899",
   "metadata": {},
   "outputs": [],
   "source": [
    "def tensor_parallel_forward_pass(X, A, B, f):\n",
    "    A1, A2 = split_columnwise(A, 2) #(200,150)\n",
    "    B1, B2 = split_rowwise(B, 2) #(150,400)\n",
    "    Y1 = f(np.dot(X, A1)) #(100,150)\n",
    "    Y2 = f(np.dot(X, A2))\n",
    "    Z1 = np.dot(Y1, B1) #(100,400)\n",
    "    Z2 = np.dot(Y2, B2)\n",
    "#     Z = np.sum([Z1, Z2], axis=0)\n",
    "    Z = Z1+Z2\n",
    "    return Z"
   ]
  },
  {
   "cell_type": "code",
   "execution_count": 215,
   "id": "b0120ca3",
   "metadata": {},
   "outputs": [],
   "source": [
    "Z_normal = normal_forward_pass(X, A, B, np.tanh)\n",
    "Z_tensor = tensor_parallel_forward_pass(X, A, B, np.tanh)"
   ]
  },
  {
   "cell_type": "code",
   "execution_count": 216,
   "id": "59006e0d",
   "metadata": {},
   "outputs": [
    {
     "data": {
      "text/plain": [
       "(100, 400)"
      ]
     },
     "execution_count": 216,
     "metadata": {},
     "output_type": "execute_result"
    }
   ],
   "source": [
    "Z_tensor.shape"
   ]
  },
  {
   "cell_type": "code",
   "execution_count": 217,
   "id": "c3a5863b",
   "metadata": {},
   "outputs": [
    {
     "data": {
      "text/plain": [
       "True"
      ]
     },
     "execution_count": 217,
     "metadata": {},
     "output_type": "execute_result"
    }
   ],
   "source": [
    "np.allclose(Z_normal, Z_tensor)"
   ]
  },
  {
   "cell_type": "markdown",
   "id": "397b4d11",
   "metadata": {},
   "source": [
    "FFN\n",
    "- h -> 4h\n",
    "- 4h -> h"
   ]
  },
  {
   "cell_type": "code",
   "execution_count": 218,
   "id": "2da548e4",
   "metadata": {},
   "outputs": [],
   "source": [
    "from transformers import AutoModel\n",
    "import os#环境代理设置\n",
    "os.environ[\"http_proxy\"] = \"http://127.0.0.1:7890\"\n",
    "os.environ[\"https_proxy\"] = \"http://127.0.0.1:7890\""
   ]
  },
  {
   "cell_type": "code",
   "execution_count": 219,
   "id": "7b653a5b",
   "metadata": {},
   "outputs": [],
   "source": [
    "bert = AutoModel.from_pretrained('bert-base-uncased')"
   ]
  },
  {
   "cell_type": "code",
   "execution_count": 220,
   "id": "ffa25b70",
   "metadata": {},
   "outputs": [
    {
     "data": {
      "text/plain": [
       "BertIntermediate(\n",
       "  (dense): Linear(in_features=768, out_features=3072, bias=True)\n",
       "  (intermediate_act_fn): GELUActivation()\n",
       ")"
      ]
     },
     "execution_count": 220,
     "metadata": {},
     "output_type": "execute_result"
    }
   ],
   "source": [
    "bert.encoder.layer[0].intermediate"
   ]
  },
  {
   "cell_type": "code",
   "execution_count": 221,
   "id": "76d3a9e7",
   "metadata": {},
   "outputs": [
    {
     "data": {
      "text/plain": [
       "BertOutput(\n",
       "  (dense): Linear(in_features=3072, out_features=768, bias=True)\n",
       "  (LayerNorm): LayerNorm((768,), eps=1e-12, elementwise_affine=True)\n",
       "  (dropout): Dropout(p=0.1, inplace=False)\n",
       ")"
      ]
     },
     "execution_count": 221,
     "metadata": {},
     "output_type": "execute_result"
    }
   ],
   "source": [
    "bert.encoder.layer[0].output"
   ]
  },
  {
   "cell_type": "markdown",
   "id": "5b8f7d81",
   "metadata": {},
   "source": [
    "ffn case"
   ]
  },
  {
   "cell_type": "code",
   "execution_count": 222,
   "id": "b772b9bc",
   "metadata": {},
   "outputs": [],
   "source": [
    "input = torch.randn(size=(1, 5, 10), dtype=torch.float32)"
   ]
  },
  {
   "cell_type": "code",
   "execution_count": 223,
   "id": "43a90b80",
   "metadata": {},
   "outputs": [
    {
     "data": {
      "text/plain": [
       "10"
      ]
     },
     "execution_count": 223,
     "metadata": {},
     "output_type": "execute_result"
    }
   ],
   "source": [
    "embedding_dim = input.size(2)\n",
    "embedding_dim"
   ]
  },
  {
   "cell_type": "code",
   "execution_count": 224,
   "id": "82c7d65e",
   "metadata": {},
   "outputs": [
    {
     "data": {
      "text/plain": [
       "torch.Size([1, 5, 40])"
      ]
     },
     "execution_count": 224,
     "metadata": {},
     "output_type": "execute_result"
    }
   ],
   "source": [
    "dense_h_to_4h = nn.Linear(embedding_dim, embedding_dim*4, bias=False)\n",
    "# (1, 5, 10) -> (1, 5, 40)\n",
    "output1 = dense_h_to_4h(input)\n",
    "output1.shape"
   ]
  },
  {
   "cell_type": "code",
   "execution_count": 225,
   "id": "61e13b4d",
   "metadata": {},
   "outputs": [
    {
     "data": {
      "text/plain": [
       "torch.Size([40, 10])"
      ]
     },
     "execution_count": 225,
     "metadata": {},
     "output_type": "execute_result"
    }
   ],
   "source": [
    "dense_h_to_4h.weight.shape"
   ]
  },
  {
   "cell_type": "code",
   "execution_count": 226,
   "id": "85f6086b",
   "metadata": {},
   "outputs": [
    {
     "data": {
      "text/plain": [
       "torch.Size([1, 5, 10])"
      ]
     },
     "execution_count": 226,
     "metadata": {},
     "output_type": "execute_result"
    }
   ],
   "source": [
    "dense_4h_to_h = nn.Linear(embedding_dim*4, embedding_dim, bias=False)\n",
    "# (1, 5, 40) -> (1, 5, 10)\n",
    "output2 = dense_4h_to_h(output1)\n",
    "output2.shape"
   ]
  },
  {
   "cell_type": "code",
   "execution_count": 227,
   "id": "b445ef40",
   "metadata": {},
   "outputs": [
    {
     "data": {
      "text/plain": [
       "20"
      ]
     },
     "execution_count": 227,
     "metadata": {},
     "output_type": "execute_result"
    }
   ],
   "source": [
    "n_devices = 2\n",
    "parallel_4h = embedding_dim * 4 // n_devices\n",
    "parallel_4h"
   ]
  },
  {
   "cell_type": "code",
   "execution_count": 228,
   "id": "b5a521dd",
   "metadata": {},
   "outputs": [
    {
     "data": {
      "text/plain": [
       "torch.Size([1, 5, 20])"
      ]
     },
     "execution_count": 228,
     "metadata": {},
     "output_type": "execute_result"
    }
   ],
   "source": [
    "dense_h_to_4h_parallel = nn.Linear(embedding_dim, parallel_4h, bias=False)\n",
    "dense_h_to_4h_parallel.weight.data = dense_h_to_4h.weight.data[:parallel_4h,:]\n",
    "first_h_to_4h = dense_h_to_4h_parallel(input)\n",
    "first_h_to_4h.shape"
   ]
  },
  {
   "cell_type": "code",
   "execution_count": 229,
   "id": "1f7b25de",
   "metadata": {},
   "outputs": [
    {
     "data": {
      "text/plain": [
       "torch.Size([1, 5, 20])"
      ]
     },
     "execution_count": 229,
     "metadata": {},
     "output_type": "execute_result"
    }
   ],
   "source": [
    "dense_h_to_4h_parallel = nn.Linear(embedding_dim, parallel_4h, bias=False)\n",
    "dense_h_to_4h_parallel.weight.data = dense_h_to_4h.weight.data[parallel_4h:2*parallel_4h,:]\n",
    "second_h_to_4h = dense_h_to_4h_parallel(input)\n",
    "second_h_to_4h.shape"
   ]
  },
  {
   "cell_type": "code",
   "execution_count": 230,
   "id": "1a5c2a3c",
   "metadata": {},
   "outputs": [
    {
     "data": {
      "text/plain": [
       "torch.Size([1, 5, 10])"
      ]
     },
     "execution_count": 230,
     "metadata": {},
     "output_type": "execute_result"
    }
   ],
   "source": [
    "dense_4h_to_h_parallel = nn.Linear(embedding_dim, parallel_4h, bias=False)\n",
    "dense_4h_to_h_parallel.weight.data = dense_4h_to_h.weight.data[:,:parallel_4h]\n",
    "first_4h_to_h = dense_4h_to_h_parallel(first_h_to_4h)\n",
    "first_4h_to_h.shape"
   ]
  },
  {
   "cell_type": "code",
   "execution_count": 231,
   "id": "f95282e1",
   "metadata": {},
   "outputs": [
    {
     "data": {
      "text/plain": [
       "torch.Size([1, 5, 10])"
      ]
     },
     "execution_count": 231,
     "metadata": {},
     "output_type": "execute_result"
    }
   ],
   "source": [
    "dense_4h_to_h_parallel = nn.Linear(embedding_dim, parallel_4h, bias=False)\n",
    "dense_4h_to_h_parallel.weight.data = dense_4h_to_h.weight.data[:,parallel_4h:2*parallel_4h]\n",
    "second_4h_to_h = dense_4h_to_h_parallel(second_h_to_4h)\n",
    "second_4h_to_h.shape"
   ]
  },
  {
   "cell_type": "code",
   "execution_count": 232,
   "id": "aceed0c2",
   "metadata": {},
   "outputs": [
    {
     "data": {
      "text/plain": [
       "tensor([[[-4.9719e-02, -7.4587e-02,  8.9481e-03,  5.1355e-01, -8.9134e-03,\n",
       "          -4.1438e-01,  2.5453e-01, -3.6612e-01,  6.8409e-02,  3.3059e-01],\n",
       "         [ 4.3118e-01,  4.5226e-01, -1.5077e-01,  1.5164e-01,  3.7224e-01,\n",
       "          -4.8630e-01, -1.6320e-01,  2.3650e-02,  1.2778e-01, -2.4209e-01],\n",
       "         [ 4.7697e-02, -7.8100e-04,  6.6952e-01,  4.9806e-02,  1.3544e-01,\n",
       "           2.9979e-02, -7.5627e-02, -3.7002e-01, -4.3875e-02,  5.0383e-01],\n",
       "         [-2.0860e-01, -3.3780e-01,  6.9807e-01,  2.5011e-01, -1.0857e+00,\n",
       "           7.3868e-01, -7.2284e-02, -2.4534e-01,  3.2172e-02,  7.3528e-01],\n",
       "         [-1.6256e-01, -5.2663e-01,  6.3661e-01,  2.1291e-01,  1.7782e-01,\n",
       "          -2.5116e-01, -7.2236e-03, -6.2389e-01,  1.3003e-01,  5.0622e-01]]],\n",
       "       grad_fn=<AddBackward0>)"
      ]
     },
     "execution_count": 232,
     "metadata": {},
     "output_type": "execute_result"
    }
   ],
   "source": [
    "first_4h_to_h+second_4h_to_h"
   ]
  },
  {
   "cell_type": "code",
   "execution_count": 233,
   "id": "a63e0bae",
   "metadata": {},
   "outputs": [
    {
     "data": {
      "text/plain": [
       "tensor([[[-4.9719e-02, -7.4587e-02,  8.9481e-03,  5.1355e-01, -8.9133e-03,\n",
       "          -4.1438e-01,  2.5453e-01, -3.6612e-01,  6.8409e-02,  3.3059e-01],\n",
       "         [ 4.3118e-01,  4.5226e-01, -1.5077e-01,  1.5164e-01,  3.7224e-01,\n",
       "          -4.8630e-01, -1.6320e-01,  2.3650e-02,  1.2778e-01, -2.4209e-01],\n",
       "         [ 4.7697e-02, -7.8097e-04,  6.6952e-01,  4.9806e-02,  1.3544e-01,\n",
       "           2.9979e-02, -7.5627e-02, -3.7002e-01, -4.3875e-02,  5.0383e-01],\n",
       "         [-2.0860e-01, -3.3780e-01,  6.9807e-01,  2.5011e-01, -1.0857e+00,\n",
       "           7.3868e-01, -7.2284e-02, -2.4534e-01,  3.2172e-02,  7.3528e-01],\n",
       "         [-1.6256e-01, -5.2663e-01,  6.3661e-01,  2.1291e-01,  1.7782e-01,\n",
       "          -2.5116e-01, -7.2236e-03, -6.2389e-01,  1.3003e-01,  5.0622e-01]]],\n",
       "       grad_fn=<UnsafeViewBackward0>)"
      ]
     },
     "execution_count": 233,
     "metadata": {},
     "output_type": "execute_result"
    }
   ],
   "source": [
    "output2"
   ]
  },
  {
   "cell_type": "markdown",
   "id": "1a0c3a0b",
   "metadata": {},
   "source": [
    "Attention"
   ]
  },
  {
   "cell_type": "code",
   "execution_count": 234,
   "id": "6769ac47",
   "metadata": {},
   "outputs": [],
   "source": [
    "input = torch.randn(size=(1, 5, 32), dtype=torch.float32)"
   ]
  },
  {
   "cell_type": "code",
   "execution_count": 235,
   "id": "ada9b214",
   "metadata": {},
   "outputs": [
    {
     "data": {
      "text/plain": [
       "32"
      ]
     },
     "execution_count": 235,
     "metadata": {},
     "output_type": "execute_result"
    }
   ],
   "source": [
    "batch_size, seq_len, hidden_size = input.size()\n",
    "hidden_size "
   ]
  },
  {
   "cell_type": "code",
   "execution_count": 236,
   "id": "9d6fd943",
   "metadata": {},
   "outputs": [
    {
     "data": {
      "text/plain": [
       "8"
      ]
     },
     "execution_count": 236,
     "metadata": {},
     "output_type": "execute_result"
    }
   ],
   "source": [
    "num_heads = 4\n",
    "head_dim = hidden_size // num_heads\n",
    "head_dim"
   ]
  },
  {
   "cell_type": "code",
   "execution_count": 237,
   "id": "df3b1e7b",
   "metadata": {},
   "outputs": [],
   "source": [
    "Wq = nn.Linear(hidden_size, hidden_size, bias=False)\n",
    "Wk = nn.Linear(hidden_size, hidden_size, bias=False)\n",
    "Wv = nn.Linear(hidden_size, hidden_size, bias=False)\n",
    "Wo = nn.Linear(hidden_size, hidden_size, bias=False)"
   ]
  },
  {
   "cell_type": "code",
   "execution_count": 238,
   "id": "7a7d4eb1",
   "metadata": {},
   "outputs": [],
   "source": [
    "q = Wq(input)\n",
    "k = Wk(input)\n",
    "v = Wv(input)"
   ]
  },
  {
   "cell_type": "code",
   "execution_count": 239,
   "id": "6e3072cb",
   "metadata": {},
   "outputs": [
    {
     "data": {
      "text/plain": [
       "torch.Size([1, 4, 5, 8])"
      ]
     },
     "execution_count": 239,
     "metadata": {},
     "output_type": "execute_result"
    }
   ],
   "source": [
    "# bsz, seq_len, num_heads, head_dim\n",
    "# bsz, num_heads, seq_len, head_dim\n",
    "q = q.view(batch_size, seq_len, num_heads, head_dim).transpose(1, 2)\n",
    "# bsz, num_heads, seq_len, head_dim\n",
    "k = k.view(batch_size, seq_len, num_heads, head_dim).transpose(1, 2)\n",
    "v = v.view(batch_size, seq_len, num_heads, head_dim).transpose(1, 2)\n",
    "v.shape"
   ]
  },
  {
   "cell_type": "code",
   "execution_count": 240,
   "id": "2eb07dba",
   "metadata": {},
   "outputs": [],
   "source": [
    "attn_weight = torch.matmul(q, k.transpose(2,3))/math.sqrt(head_dim)"
   ]
  },
  {
   "cell_type": "code",
   "execution_count": 241,
   "id": "7aa4dcae",
   "metadata": {},
   "outputs": [
    {
     "data": {
      "text/plain": [
       "torch.Size([1, 4, 5, 5])"
      ]
     },
     "execution_count": 241,
     "metadata": {},
     "output_type": "execute_result"
    }
   ],
   "source": [
    "attn_weight.shape"
   ]
  },
  {
   "cell_type": "code",
   "execution_count": 242,
   "id": "7f2e45bd",
   "metadata": {},
   "outputs": [
    {
     "data": {
      "text/plain": [
       "torch.Size([1, 4, 5, 8])"
      ]
     },
     "execution_count": 242,
     "metadata": {},
     "output_type": "execute_result"
    }
   ],
   "source": [
    "attn_weight = F.softmax(attn_weight, dim=-1)\n",
    "attn_output = torch.matmul(attn_weight, v)\n",
    "attn_output.shape"
   ]
  },
  {
   "cell_type": "code",
   "execution_count": 243,
   "id": "f3289a5a",
   "metadata": {},
   "outputs": [
    {
     "data": {
      "text/plain": [
       "torch.Size([1, 5, 32])"
      ]
     },
     "execution_count": 243,
     "metadata": {},
     "output_type": "execute_result"
    }
   ],
   "source": [
    "attn_output = attn_output.transpose(1, 2).contiguous()\n",
    "attn_output = attn_output.reshape(batch_size, seq_len, num_heads*head_dim)\n",
    "attn_output.shape"
   ]
  },
  {
   "cell_type": "markdown",
   "id": "77f1e09d",
   "metadata": {},
   "source": [
    "``` python\n",
    "x = torch.arange(12).view(3, 4)      # 连续\n",
    "y = x.transpose(0, 1)                # 不连续\n",
    "y.is_contiguous()                    # False\n",
    "y.view(12)                           # ❌ RuntimeError\n",
    "y.contiguous().view(12)              # ✅ 可以\n",
    "```"
   ]
  },
  {
   "cell_type": "code",
   "execution_count": 244,
   "id": "f3acf7d6",
   "metadata": {},
   "outputs": [
    {
     "data": {
      "text/plain": [
       "torch.Size([1, 5, 32])"
      ]
     },
     "execution_count": 244,
     "metadata": {},
     "output_type": "execute_result"
    }
   ],
   "source": [
    "attn_output_non_tp = Wo(attn_output)\n",
    "attn_output_non_tp.shape"
   ]
  },
  {
   "cell_type": "code",
   "execution_count": 245,
   "id": "4c12e7c8",
   "metadata": {},
   "outputs": [
    {
     "data": {
      "text/plain": [
       "tensor([[[ 0.1467, -0.1020,  0.0323, -0.0405,  0.1146,  0.0616,  0.1730,\n",
       "          -0.2219,  0.0287,  0.2283,  0.1665,  0.1526,  0.0512, -0.1623,\n",
       "          -0.0435,  0.0033, -0.1520, -0.0482, -0.0878,  0.0365,  0.1547,\n",
       "          -0.1591, -0.0755,  0.0978,  0.1997,  0.1412,  0.0167, -0.0183,\n",
       "           0.0036, -0.2445, -0.1841, -0.2814],\n",
       "         [ 0.1176, -0.0888,  0.0617, -0.0142,  0.0818,  0.1042,  0.2191,\n",
       "          -0.1904,  0.1060,  0.2371,  0.1683,  0.1092,  0.0542, -0.1224,\n",
       "          -0.0410,  0.0388, -0.2000, -0.0624, -0.0393,  0.0318,  0.0554,\n",
       "          -0.0615, -0.0725,  0.1469,  0.2720,  0.1751, -0.0576, -0.0669,\n",
       "          -0.0062, -0.2414, -0.1992, -0.2961],\n",
       "         [ 0.0731, -0.0706,  0.0947, -0.0608,  0.0897,  0.1043,  0.1654,\n",
       "          -0.1146,  0.0608,  0.2052,  0.0981,  0.0356,  0.1239, -0.0489,\n",
       "          -0.0732,  0.0068, -0.1020, -0.0595, -0.0776, -0.0383,  0.0699,\n",
       "          -0.1072, -0.1308,  0.1756,  0.1683,  0.1028, -0.0533, -0.1249,\n",
       "          -0.0881, -0.2516, -0.1766, -0.2650],\n",
       "         [ 0.1122, -0.0592,  0.1004, -0.0164,  0.0162,  0.0951,  0.2066,\n",
       "          -0.1201,  0.1126,  0.1450,  0.2069,  0.0244,  0.0856, -0.0088,\n",
       "          -0.0859,  0.0439, -0.1574, -0.0660, -0.0174, -0.0701,  0.0086,\n",
       "          -0.0090, -0.1273,  0.1992,  0.2444,  0.1175, -0.0981, -0.1227,\n",
       "          -0.0207, -0.2674, -0.2139, -0.2631],\n",
       "         [ 0.1716, -0.1082,  0.0890, -0.1167,  0.0377,  0.0849,  0.2179,\n",
       "          -0.0741,  0.1189,  0.1673,  0.0874,  0.0016,  0.1677, -0.0771,\n",
       "          -0.1155,  0.1367, -0.1440, -0.0218, -0.0239, -0.0780,  0.0473,\n",
       "          -0.0863, -0.0981,  0.2206,  0.2638,  0.1369, -0.0722, -0.1887,\n",
       "          -0.0221, -0.2549, -0.1650, -0.2906]]], grad_fn=<UnsafeViewBackward0>)"
      ]
     },
     "execution_count": 245,
     "metadata": {},
     "output_type": "execute_result"
    }
   ],
   "source": [
    "attn_output_non_tp"
   ]
  },
  {
   "cell_type": "markdown",
   "id": "9c6caf39",
   "metadata": {},
   "source": [
    "tensor parallel of Attention"
   ]
  },
  {
   "cell_type": "code",
   "execution_count": 246,
   "id": "60da543a",
   "metadata": {},
   "outputs": [
    {
     "data": {
      "text/plain": [
       "2"
      ]
     },
     "execution_count": 246,
     "metadata": {},
     "output_type": "execute_result"
    }
   ],
   "source": [
    "n_devices = 2\n",
    "num_heads = num_heads // n_devices\n",
    "num_heads"
   ]
  },
  {
   "cell_type": "code",
   "execution_count": 247,
   "id": "66b47a9e",
   "metadata": {},
   "outputs": [
    {
     "data": {
      "text/plain": [
       "torch.Size([32, 32])"
      ]
     },
     "execution_count": 247,
     "metadata": {},
     "output_type": "execute_result"
    }
   ],
   "source": [
    "Wq.weight.shape"
   ]
  },
  {
   "cell_type": "code",
   "execution_count": 248,
   "id": "55156411",
   "metadata": {},
   "outputs": [
    {
     "name": "stdout",
     "output_type": "stream",
     "text": [
      "torch.Size([16, 32])\n",
      "torch.Size([16, 32])\n"
     ]
    }
   ],
   "source": [
    "Wq_blocks = Wq.weight.split(num_heads*head_dim, dim=0)\n",
    "print(Wq_blocks[0].shape)\n",
    "print(Wq_blocks[1].shape)"
   ]
  },
  {
   "cell_type": "code",
   "execution_count": 249,
   "id": "8bccc112",
   "metadata": {},
   "outputs": [],
   "source": [
    "Wk_blocks = Wk.weight.split(num_heads * head_dim, dim=0)\n",
    "Wv_blocks = Wv.weight.split(num_heads * head_dim, dim=0)"
   ]
  },
  {
   "cell_type": "code",
   "execution_count": 250,
   "id": "9624bd3b",
   "metadata": {},
   "outputs": [
    {
     "name": "stdout",
     "output_type": "stream",
     "text": [
      "torch.Size([32, 16])\n",
      "torch.Size([32, 16])\n"
     ]
    }
   ],
   "source": [
    "Wo_blocks = Wo.weight.split(num_heads * head_dim, dim=1)\n",
    "print(Wo_blocks[0].shape)\n",
    "print(Wo_blocks[1].shape)"
   ]
  },
  {
   "cell_type": "code",
   "execution_count": 251,
   "id": "9835d357",
   "metadata": {},
   "outputs": [
    {
     "data": {
      "text/plain": [
       "torch.Size([1, 5, 16])"
      ]
     },
     "execution_count": 251,
     "metadata": {},
     "output_type": "execute_result"
    }
   ],
   "source": [
    "# first device\n",
    "q1 = F.linear(input, Wq_blocks[0])\n",
    "k1 = F.linear(input, Wk_blocks[0])\n",
    "v1 = F.linear(input, Wv_blocks[0])\n",
    "q1.shape"
   ]
  },
  {
   "cell_type": "code",
   "execution_count": 252,
   "id": "4f558eb2",
   "metadata": {},
   "outputs": [],
   "source": [
    "q1 = q1.view(batch_size, seq_len, num_heads, head_dim).transpose(1, 2)\n",
    "k1 = k1.view(batch_size, seq_len, num_heads, head_dim).transpose(1, 2)\n",
    "v1 = v1.view(batch_size, seq_len, num_heads, head_dim).transpose(1, 2)"
   ]
  },
  {
   "cell_type": "code",
   "execution_count": 253,
   "id": "7530889f",
   "metadata": {},
   "outputs": [
    {
     "data": {
      "text/plain": [
       "torch.Size([1, 5, 2, 8])"
      ]
     },
     "execution_count": 253,
     "metadata": {},
     "output_type": "execute_result"
    }
   ],
   "source": [
    "attn_weight = torch.matmul(q1, k1.transpose(2,3))/math.sqrt(head_dim)\n",
    "attn_weight = F.softmax(attn_weight, dim=-1)\n",
    "attn_output1 = torch.matmul(attn_weight, v1)\n",
    "attn_output1 = attn_output1.transpose(1, 2).contiguous()\n",
    "attn_output1.shape"
   ]
  },
  {
   "cell_type": "code",
   "execution_count": 254,
   "id": "d210cd21",
   "metadata": {},
   "outputs": [
    {
     "data": {
      "text/plain": [
       "torch.Size([1, 5, 16])"
      ]
     },
     "execution_count": 254,
     "metadata": {},
     "output_type": "execute_result"
    }
   ],
   "source": [
    "attn_output1 = attn_output1.reshape(batch_size, seq_len, num_heads*head_dim)\n",
    "attn_output1.shape"
   ]
  },
  {
   "cell_type": "code",
   "execution_count": 255,
   "id": "c28af909",
   "metadata": {},
   "outputs": [
    {
     "data": {
      "text/plain": [
       "torch.Size([32, 16])"
      ]
     },
     "execution_count": 255,
     "metadata": {},
     "output_type": "execute_result"
    }
   ],
   "source": [
    "Wo_blocks[0].shape"
   ]
  },
  {
   "cell_type": "code",
   "execution_count": 256,
   "id": "d97c50ef",
   "metadata": {},
   "outputs": [
    {
     "data": {
      "text/plain": [
       "torch.Size([1, 5, 32])"
      ]
     },
     "execution_count": 256,
     "metadata": {},
     "output_type": "execute_result"
    }
   ],
   "source": [
    "attn_output1 = F.linear(attn_output1, Wo_blocks[0])\n",
    "attn_output1.shape"
   ]
  },
  {
   "cell_type": "code",
   "execution_count": 257,
   "id": "92f8ab92",
   "metadata": {},
   "outputs": [
    {
     "data": {
      "text/plain": [
       "torch.Size([1, 5, 32])"
      ]
     },
     "execution_count": 257,
     "metadata": {},
     "output_type": "execute_result"
    }
   ],
   "source": [
    "# second device\n",
    "q2 = F.linear(input, Wq_blocks[1])\n",
    "k2 = F.linear(input, Wk_blocks[1])\n",
    "v2 = F.linear(input, Wv_blocks[1])\n",
    "q2 = q2.view(batch_size, seq_len, num_heads, head_dim).transpose(1, 2)\n",
    "k2 = k2.view(batch_size, seq_len, num_heads, head_dim).transpose(1, 2)\n",
    "v2 = v2.view(batch_size, seq_len, num_heads, head_dim).transpose(1, 2)\n",
    "attn_weight = torch.matmul(q2, k2.transpose(2,3))/math.sqrt(head_dim)\n",
    "attn_weight = F.softmax(attn_weight, dim=-1)\n",
    "attn_output2 = torch.matmul(attn_weight, v2)\n",
    "attn_output2 = attn_output2.transpose(1, 2).contiguous()\n",
    "attn_output2 = attn_output2.reshape(batch_size, seq_len, num_heads*head_dim)\n",
    "attn_output2 = F.linear(attn_output2, Wo_blocks[1])\n",
    "attn_output2.shape"
   ]
  },
  {
   "cell_type": "code",
   "execution_count": 258,
   "id": "e900a03a",
   "metadata": {},
   "outputs": [
    {
     "data": {
      "text/plain": [
       "tensor([[[ 0.1467, -0.1020,  0.0323, -0.0405,  0.1146,  0.0616,  0.1730,\n",
       "          -0.2219,  0.0287,  0.2283,  0.1665,  0.1526,  0.0512, -0.1623,\n",
       "          -0.0435,  0.0033, -0.1520, -0.0482, -0.0878,  0.0365,  0.1547,\n",
       "          -0.1591, -0.0755,  0.0978,  0.1997,  0.1412,  0.0167, -0.0183,\n",
       "           0.0036, -0.2445, -0.1841, -0.2814],\n",
       "         [ 0.1176, -0.0888,  0.0617, -0.0142,  0.0818,  0.1042,  0.2191,\n",
       "          -0.1904,  0.1060,  0.2371,  0.1683,  0.1092,  0.0542, -0.1224,\n",
       "          -0.0410,  0.0388, -0.2000, -0.0624, -0.0393,  0.0318,  0.0554,\n",
       "          -0.0615, -0.0725,  0.1469,  0.2720,  0.1751, -0.0576, -0.0669,\n",
       "          -0.0062, -0.2414, -0.1992, -0.2961],\n",
       "         [ 0.0731, -0.0706,  0.0947, -0.0608,  0.0897,  0.1043,  0.1654,\n",
       "          -0.1146,  0.0608,  0.2052,  0.0981,  0.0356,  0.1239, -0.0489,\n",
       "          -0.0732,  0.0068, -0.1020, -0.0595, -0.0776, -0.0383,  0.0699,\n",
       "          -0.1072, -0.1308,  0.1756,  0.1683,  0.1028, -0.0533, -0.1249,\n",
       "          -0.0881, -0.2516, -0.1766, -0.2650],\n",
       "         [ 0.1122, -0.0592,  0.1004, -0.0164,  0.0162,  0.0951,  0.2066,\n",
       "          -0.1201,  0.1126,  0.1450,  0.2069,  0.0244,  0.0856, -0.0088,\n",
       "          -0.0859,  0.0439, -0.1574, -0.0660, -0.0174, -0.0701,  0.0086,\n",
       "          -0.0090, -0.1273,  0.1992,  0.2444,  0.1175, -0.0981, -0.1227,\n",
       "          -0.0207, -0.2674, -0.2139, -0.2631],\n",
       "         [ 0.1716, -0.1082,  0.0890, -0.1167,  0.0377,  0.0849,  0.2179,\n",
       "          -0.0741,  0.1189,  0.1673,  0.0874,  0.0016,  0.1677, -0.0771,\n",
       "          -0.1155,  0.1367, -0.1440, -0.0218, -0.0239, -0.0780,  0.0473,\n",
       "          -0.0863, -0.0981,  0.2206,  0.2638,  0.1369, -0.0722, -0.1887,\n",
       "          -0.0221, -0.2549, -0.1650, -0.2906]]], grad_fn=<AddBackward0>)"
      ]
     },
     "execution_count": 258,
     "metadata": {},
     "output_type": "execute_result"
    }
   ],
   "source": [
    "attn_output1+attn_output2"
   ]
  },
  {
   "cell_type": "code",
   "execution_count": 259,
   "id": "7284ff3c",
   "metadata": {},
   "outputs": [
    {
     "data": {
      "text/plain": [
       "True"
      ]
     },
     "execution_count": 259,
     "metadata": {},
     "output_type": "execute_result"
    }
   ],
   "source": [
    "x = torch.randn(10,20)\n",
    "ww = nn.Linear(20,30,bias=False)\n",
    "my_w = ww.weight\n",
    "o1 = ww(x).detach().numpy()\n",
    "o2 = F.linear(x, my_w).detach().numpy()\n",
    "np.allclose(o1,o2)"
   ]
  }
 ],
 "metadata": {
  "kernelspec": {
   "display_name": "PyTroch",
   "language": "python",
   "name": "python3"
  },
  "language_info": {
   "codemirror_mode": {
    "name": "ipython",
    "version": 3
   },
   "file_extension": ".py",
   "mimetype": "text/x-python",
   "name": "python",
   "nbconvert_exporter": "python",
   "pygments_lexer": "ipython3",
   "version": "3.8.20"
  }
 },
 "nbformat": 4,
 "nbformat_minor": 5
}
