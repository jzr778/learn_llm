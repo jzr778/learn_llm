{
 "cells": [
  {
   "cell_type": "markdown",
   "id": "e7425242",
   "metadata": {},
   "source": [
    "### summary\n",
    "- 数据并行（分割） vs 模型并行（拷贝）\n",
    "    - 该模块在每个设备上复制，每个副本处理输入的一部分\n",
    "    - 在向后通过期间，从每个副本的梯度被求和到原始模块\n",
    "- DP => DDP\n",
    "    - DP：nn.DataParallel\n",
    "    - DDP: DistributedDataParallel\n",
    "    - Use nn.parallel.DistributedDataParallel instead of multiprocessing or nn.DataParallel and Distributed Data Parallel."
   ]
  },
  {
   "cell_type": "code",
   "execution_count": 1,
   "id": "d6132c73",
   "metadata": {},
   "outputs": [],
   "source": [
    "import torch\n",
    "import torch.nn as nn\n",
    "from torch.utils.data import Dataset, DataLoader\n",
    "\n",
    "# Parameters and DataLoaders\n",
    "input_size = 5\n",
    "output_size = 2\n",
    "\n",
    "batch_size = 30\n",
    "data_size = 100"
   ]
  },
  {
   "cell_type": "code",
   "execution_count": 2,
   "id": "f0ec539b",
   "metadata": {},
   "outputs": [
    {
     "data": {
      "text/plain": [
       "device(type='cuda', index=0)"
      ]
     },
     "execution_count": 2,
     "metadata": {},
     "output_type": "execute_result"
    }
   ],
   "source": [
    "device = torch.device('cuda:0' if torch.cuda.is_available() else 'cpu') \n",
    "device"
   ]
  },
  {
   "cell_type": "markdown",
   "id": "2f49a98e",
   "metadata": {},
   "source": [
    "dummy dataset"
   ]
  },
  {
   "cell_type": "code",
   "execution_count": 3,
   "id": "79136e79",
   "metadata": {},
   "outputs": [],
   "source": [
    "class RandomDataset(Dataset):\n",
    "    def __init__(self, size, length):\n",
    "        self.len = length\n",
    "        # 100*5\n",
    "        self.data = torch.randn(length, size)\n",
    "\n",
    "    def __getitem__(self, index):\n",
    "        # (5,)\n",
    "        return self.data[index]\n",
    "    \n",
    "    def __len__(self):\n",
    "        # 100\n",
    "        return self.len\n",
    "\n",
    "rand_loader = DataLoader(dataset=RandomDataset(input_size, data_size),\n",
    "                         batch_size=batch_size,\n",
    "                         shuffle=True)"
   ]
  },
  {
   "cell_type": "code",
   "execution_count": 4,
   "id": "07ccff4a",
   "metadata": {},
   "outputs": [
    {
     "data": {
      "text/plain": [
       "torch.Size([30, 5])"
      ]
     },
     "execution_count": 4,
     "metadata": {},
     "output_type": "execute_result"
    }
   ],
   "source": [
    "next(iter(rand_loader)).shape"
   ]
  },
  {
   "cell_type": "markdown",
   "id": "67653bc2",
   "metadata": {},
   "source": [
    "simple model"
   ]
  },
  {
   "cell_type": "code",
   "execution_count": 5,
   "id": "f790366c",
   "metadata": {},
   "outputs": [],
   "source": [
    "class Model(nn.Module):\n",
    "    def __init__(self, input_size, output_size, *args, **kwargs):\n",
    "        super(Model, self).__init__(*args, **kwargs)\n",
    "        self.fc = nn.Linear(input_size, output_size)\n",
    "    def forward(self, input):\n",
    "        output = self.fc(input)\n",
    "        print(\"\\tIn Model: input size\", input.size(),\n",
    "              \"output size\", output.size())\n",
    "        return output"
   ]
  },
  {
   "cell_type": "markdown",
   "id": "b32648a1",
   "metadata": {},
   "source": [
    "### DataParaller"
   ]
  },
  {
   "cell_type": "code",
   "execution_count": 10,
   "id": "7cf035ca",
   "metadata": {},
   "outputs": [
    {
     "name": "stdout",
     "output_type": "stream",
     "text": [
      "9 gpus\n"
     ]
    }
   ],
   "source": [
    "# (5, 2)\n",
    "model = Model(input_size, output_size)\n",
    "if torch.cuda.device_count()>1:\n",
    "    print(f\"{torch.cuda.device_count()} gpus\")\n",
    "    model = nn.DataParallel(model)"
   ]
  },
  {
   "cell_type": "code",
   "execution_count": 11,
   "id": "9cddea48",
   "metadata": {},
   "outputs": [
    {
     "data": {
      "text/plain": [
       "DataParallel(\n",
       "  (module): Model(\n",
       "    (fc): Linear(in_features=5, out_features=2, bias=True)\n",
       "  )\n",
       ")"
      ]
     },
     "execution_count": 11,
     "metadata": {},
     "output_type": "execute_result"
    }
   ],
   "source": [
    "model"
   ]
  },
  {
   "cell_type": "markdown",
   "id": "c0168cbc",
   "metadata": {},
   "source": [
    "tensors: to(device)"
   ]
  },
  {
   "cell_type": "code",
   "execution_count": 20,
   "id": "4914df2e",
   "metadata": {},
   "outputs": [
    {
     "name": "stdout",
     "output_type": "stream",
     "text": [
      "a.is_cuda False\n",
      "a.is_cuda False\n",
      "b.is_cuda True\n"
     ]
    }
   ],
   "source": [
    "a = torch.randn(3,4)\n",
    "print('a.is_cuda', a.is_cuda)\n",
    "b = a.to(\"cuda:0\")\n",
    "print('a.is_cuda', a.is_cuda)\n",
    "print('b.is_cuda', b.is_cuda)"
   ]
  },
  {
   "cell_type": "markdown",
   "id": "416edc02",
   "metadata": {},
   "source": [
    "model:to(device)"
   ]
  },
  {
   "cell_type": "code",
   "execution_count": 22,
   "id": "7a36c29a",
   "metadata": {},
   "outputs": [
    {
     "name": "stdout",
     "output_type": "stream",
     "text": [
      "False\n",
      "True\n",
      "True\n"
     ]
    }
   ],
   "source": [
    "a = Model(3, 4)\n",
    "print(next(a.parameters()).is_cuda)\n",
    "b = a.to('cuda:0')\n",
    "print(next(a.parameters()).is_cuda)\n",
    "print(next(b.parameters()).is_cuda)"
   ]
  },
  {
   "cell_type": "code",
   "execution_count": 18,
   "id": "65225f9f",
   "metadata": {},
   "outputs": [],
   "source": [
    "a = torch.randn(3,4)"
   ]
  },
  {
   "cell_type": "markdown",
   "id": "e2f33324",
   "metadata": {},
   "source": [
    "run the model(forward)"
   ]
  },
  {
   "cell_type": "code",
   "execution_count": 25,
   "id": "ab3d2af5",
   "metadata": {},
   "outputs": [
    {
     "name": "stderr",
     "output_type": "stream",
     "text": [
      "/home/jiangzirou/.local/lib/python3.8/site-packages/torch/nn/modules/linear.py:117: UserWarning: Attempting to run cuBLAS, but there was no current CUDA context! Attempting to set the primary context... (Triggered internally at ../aten/src/ATen/cuda/CublasHandlePool.cpp:135.)\n",
      "  return F.linear(input, self.weight, self.bias)\n"
     ]
    },
    {
     "name": "stdout",
     "output_type": "stream",
     "text": [
      "\tIn Model: input size torch.Size([4, 5]) output size torch.Size([4, 2])\n",
      "\tIn Model: input size torch.Size([4, 5]) output size torch.Size([4, 2])\n",
      "\tIn Model: input size torch.Size([4, 5]) output size torch.Size([4, 2])\n",
      "\tIn Model: input size torch.Size([4, 5]) output size torch.Size([4, 2])\n",
      "\tIn Model: input size torch.Size([4, 5]) output size torch.Size([4, 2])\n",
      "\tIn Model: input size torch.Size([4, 5]) output size torch.Size([4, 2])\n",
      "\tIn Model: input size torch.Size([4, 5]) output size torch.Size([4, 2])\n",
      "\tIn Model: input size torch.Size([2, 5]) output size torch.Size([2, 2])\n",
      "Outside: input size torch.Size([30, 5]) output_size torch.Size([30, 2])\n",
      "\tIn Model: input size torch.Size([4, 5]) output size torch.Size([4, 2])\n",
      "\tIn Model: input size torch.Size([4, 5]) output size torch.Size([4, 2])\n",
      "\tIn Model: input size torch.Size([4, 5]) output size torch.Size([4, 2])\n",
      "\tIn Model: input size torch.Size([4, 5]) output size torch.Size([4, 2])\n",
      "\tIn Model: input size torch.Size([4, 5]) output size torch.Size([4, 2])\n",
      "\tIn Model: input size torch.Size([4, 5]) output size torch.Size([4, 2])\n",
      "\tIn Model: input size torch.Size([4, 5]) output size torch.Size([4, 2])\n",
      "\tIn Model: input size torch.Size([2, 5]) output size torch.Size([2, 2])\n",
      "Outside: input size torch.Size([30, 5]) output_size torch.Size([30, 2])\n",
      "\tIn Model: input size torch.Size([4, 5]) output size torch.Size([4, 2])\n",
      "\tIn Model: input size torch.Size([4, 5]) output size torch.Size([4, 2])\n",
      "\tIn Model: input size torch.Size([4, 5]) output size torch.Size([4, 2])\n",
      "\tIn Model: input size torch.Size([4, 5]) output size torch.Size([4, 2])\n",
      "\tIn Model: input size torch.Size([4, 5]) output size torch.Size([4, 2])\n",
      "\tIn Model: input size torch.Size([4, 5]) output size torch.Size([4, 2])\n",
      "\tIn Model: input size torch.Size([4, 5]) output size torch.Size([4, 2])\n",
      "\tIn Model: input size torch.Size([2, 5]) output size torch.Size([2, 2])\n",
      "Outside: input size torch.Size([30, 5]) output_size torch.Size([30, 2])\n",
      "\tIn Model: input size\tIn Model: input size torch.Size([2, 5]) output size torch.Size([2, 2])\n",
      "\tIn Model: input size torch.Size([2, 5]) output size torch.Size([2, 2])\n",
      " torch.Size([2, 5]) output size torch.Size([2, 2])\n",
      "\tIn Model: input size torch.Size([2, 5]) output size torch.Size([2, 2])\n",
      "\tIn Model: input size torch.Size([2, 5]) output size torch.Size([2, 2])\n",
      "Outside: input size torch.Size([10, 5]) output_size torch.Size([10, 2])\n"
     ]
    }
   ],
   "source": [
    "model = model.to(device)\n",
    "for data in rand_loader:\n",
    "    input = data.to(device)\n",
    "    output = model(input)\n",
    "    print(\"Outside: input size\", input.size(),\n",
    "          \"output_size\", output.size())"
   ]
  }
 ],
 "metadata": {
  "kernelspec": {
   "display_name": "PyTroch",
   "language": "python",
   "name": "python3"
  },
  "language_info": {
   "codemirror_mode": {
    "name": "ipython",
    "version": 3
   },
   "file_extension": ".py",
   "mimetype": "text/x-python",
   "name": "python",
   "nbconvert_exporter": "python",
   "pygments_lexer": "ipython3",
   "version": "3.8.20"
  }
 },
 "nbformat": 4,
 "nbformat_minor": 5
}
